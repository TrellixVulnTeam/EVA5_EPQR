{
  "nbformat": 4,
  "nbformat_minor": 0,
  "metadata": {
    "colab": {
      "name": "Session 7 Python.ipynb",
      "provenance": [],
      "collapsed_sections": [],
      "authorship_tag": "ABX9TyOxIdcIyMBPk6yjo5dX9//k"
    },
    "kernelspec": {
      "name": "python3",
      "display_name": "Python 3"
    },
    "accelerator": "GPU",
    "widgets": {
      "application/vnd.jupyter.widget-state+json": {
        "05e9a9b472f9428ead34da29c4207581": {
          "model_module": "@jupyter-widgets/controls",
          "model_name": "HBoxModel",
          "state": {
            "_view_name": "HBoxView",
            "_dom_classes": [],
            "_model_name": "HBoxModel",
            "_view_module": "@jupyter-widgets/controls",
            "_model_module_version": "1.5.0",
            "_view_count": null,
            "_view_module_version": "1.5.0",
            "box_style": "",
            "layout": "IPY_MODEL_9bb03b2d07a547e88aec36933b746499",
            "_model_module": "@jupyter-widgets/controls",
            "children": [
              "IPY_MODEL_3e39e21aea9b4a19ae149e57f6581041",
              "IPY_MODEL_4bcacee498a4400c9c6c447862fc88df"
            ]
          }
        },
        "9bb03b2d07a547e88aec36933b746499": {
          "model_module": "@jupyter-widgets/base",
          "model_name": "LayoutModel",
          "state": {
            "_view_name": "LayoutView",
            "grid_template_rows": null,
            "right": null,
            "justify_content": null,
            "_view_module": "@jupyter-widgets/base",
            "overflow": null,
            "_model_module_version": "1.2.0",
            "_view_count": null,
            "flex_flow": null,
            "width": null,
            "min_width": null,
            "border": null,
            "align_items": null,
            "bottom": null,
            "_model_module": "@jupyter-widgets/base",
            "top": null,
            "grid_column": null,
            "overflow_y": null,
            "overflow_x": null,
            "grid_auto_flow": null,
            "grid_area": null,
            "grid_template_columns": null,
            "flex": null,
            "_model_name": "LayoutModel",
            "justify_items": null,
            "grid_row": null,
            "max_height": null,
            "align_content": null,
            "visibility": null,
            "align_self": null,
            "height": null,
            "min_height": null,
            "padding": null,
            "grid_auto_rows": null,
            "grid_gap": null,
            "max_width": null,
            "order": null,
            "_view_module_version": "1.2.0",
            "grid_template_areas": null,
            "object_position": null,
            "object_fit": null,
            "grid_auto_columns": null,
            "margin": null,
            "display": null,
            "left": null
          }
        },
        "3e39e21aea9b4a19ae149e57f6581041": {
          "model_module": "@jupyter-widgets/controls",
          "model_name": "FloatProgressModel",
          "state": {
            "_view_name": "ProgressView",
            "style": "IPY_MODEL_c290a42b197342e4acaa72ff311f9629",
            "_dom_classes": [],
            "description": "",
            "_model_name": "FloatProgressModel",
            "bar_style": "info",
            "max": 1,
            "_view_module": "@jupyter-widgets/controls",
            "_model_module_version": "1.5.0",
            "value": 1,
            "_view_count": null,
            "_view_module_version": "1.5.0",
            "orientation": "horizontal",
            "min": 0,
            "description_tooltip": null,
            "_model_module": "@jupyter-widgets/controls",
            "layout": "IPY_MODEL_7d01cdffc9ff442398e2fb7f59d8f3aa"
          }
        },
        "4bcacee498a4400c9c6c447862fc88df": {
          "model_module": "@jupyter-widgets/controls",
          "model_name": "HTMLModel",
          "state": {
            "_view_name": "HTMLView",
            "style": "IPY_MODEL_043a104f599f494ea75651367c46e5f4",
            "_dom_classes": [],
            "description": "",
            "_model_name": "HTMLModel",
            "placeholder": "​",
            "_view_module": "@jupyter-widgets/controls",
            "_model_module_version": "1.5.0",
            "value": " 170500096/? [00:20&lt;00:00, 90521223.20it/s]",
            "_view_count": null,
            "_view_module_version": "1.5.0",
            "description_tooltip": null,
            "_model_module": "@jupyter-widgets/controls",
            "layout": "IPY_MODEL_705671f91efa4ded8301bd2bc5803eff"
          }
        },
        "c290a42b197342e4acaa72ff311f9629": {
          "model_module": "@jupyter-widgets/controls",
          "model_name": "ProgressStyleModel",
          "state": {
            "_view_name": "StyleView",
            "_model_name": "ProgressStyleModel",
            "description_width": "initial",
            "_view_module": "@jupyter-widgets/base",
            "_model_module_version": "1.5.0",
            "_view_count": null,
            "_view_module_version": "1.2.0",
            "bar_color": null,
            "_model_module": "@jupyter-widgets/controls"
          }
        },
        "7d01cdffc9ff442398e2fb7f59d8f3aa": {
          "model_module": "@jupyter-widgets/base",
          "model_name": "LayoutModel",
          "state": {
            "_view_name": "LayoutView",
            "grid_template_rows": null,
            "right": null,
            "justify_content": null,
            "_view_module": "@jupyter-widgets/base",
            "overflow": null,
            "_model_module_version": "1.2.0",
            "_view_count": null,
            "flex_flow": null,
            "width": null,
            "min_width": null,
            "border": null,
            "align_items": null,
            "bottom": null,
            "_model_module": "@jupyter-widgets/base",
            "top": null,
            "grid_column": null,
            "overflow_y": null,
            "overflow_x": null,
            "grid_auto_flow": null,
            "grid_area": null,
            "grid_template_columns": null,
            "flex": null,
            "_model_name": "LayoutModel",
            "justify_items": null,
            "grid_row": null,
            "max_height": null,
            "align_content": null,
            "visibility": null,
            "align_self": null,
            "height": null,
            "min_height": null,
            "padding": null,
            "grid_auto_rows": null,
            "grid_gap": null,
            "max_width": null,
            "order": null,
            "_view_module_version": "1.2.0",
            "grid_template_areas": null,
            "object_position": null,
            "object_fit": null,
            "grid_auto_columns": null,
            "margin": null,
            "display": null,
            "left": null
          }
        },
        "043a104f599f494ea75651367c46e5f4": {
          "model_module": "@jupyter-widgets/controls",
          "model_name": "DescriptionStyleModel",
          "state": {
            "_view_name": "StyleView",
            "_model_name": "DescriptionStyleModel",
            "description_width": "",
            "_view_module": "@jupyter-widgets/base",
            "_model_module_version": "1.5.0",
            "_view_count": null,
            "_view_module_version": "1.2.0",
            "_model_module": "@jupyter-widgets/controls"
          }
        },
        "705671f91efa4ded8301bd2bc5803eff": {
          "model_module": "@jupyter-widgets/base",
          "model_name": "LayoutModel",
          "state": {
            "_view_name": "LayoutView",
            "grid_template_rows": null,
            "right": null,
            "justify_content": null,
            "_view_module": "@jupyter-widgets/base",
            "overflow": null,
            "_model_module_version": "1.2.0",
            "_view_count": null,
            "flex_flow": null,
            "width": null,
            "min_width": null,
            "border": null,
            "align_items": null,
            "bottom": null,
            "_model_module": "@jupyter-widgets/base",
            "top": null,
            "grid_column": null,
            "overflow_y": null,
            "overflow_x": null,
            "grid_auto_flow": null,
            "grid_area": null,
            "grid_template_columns": null,
            "flex": null,
            "_model_name": "LayoutModel",
            "justify_items": null,
            "grid_row": null,
            "max_height": null,
            "align_content": null,
            "visibility": null,
            "align_self": null,
            "height": null,
            "min_height": null,
            "padding": null,
            "grid_auto_rows": null,
            "grid_gap": null,
            "max_width": null,
            "order": null,
            "_view_module_version": "1.2.0",
            "grid_template_areas": null,
            "object_position": null,
            "object_fit": null,
            "grid_auto_columns": null,
            "margin": null,
            "display": null,
            "left": null
          }
        }
      }
    }
  },
  "cells": [
    {
      "cell_type": "code",
      "metadata": {
        "id": "h9LZ9jfLzbNo",
        "colab_type": "code",
        "colab": {
          "base_uri": "https://localhost:8080/",
          "height": 141
        },
        "outputId": "dc417f75-df32-4e4e-a306-1aedc98a413b"
      },
      "source": [
        "!git clone https://github.com/rishabh-bhardwaj-64rr/EVA5.git"
      ],
      "execution_count": 13,
      "outputs": [
        {
          "output_type": "stream",
          "text": [
            "Cloning into 'EVA5'...\n",
            "remote: Enumerating objects: 124, done.\u001b[K\n",
            "remote: Counting objects: 100% (124/124), done.\u001b[K\n",
            "remote: Compressing objects: 100% (114/114), done.\u001b[K\n",
            "remote: Total 124 (delta 48), reused 0 (delta 0), pack-reused 0\u001b[K\n",
            "Receiving objects: 100% (124/124), 681.46 KiB | 6.08 MiB/s, done.\n",
            "Resolving deltas: 100% (48/48), done.\n"
          ],
          "name": "stdout"
        }
      ]
    },
    {
      "cell_type": "code",
      "metadata": {
        "id": "NHZT4ZCgzn4A",
        "colab_type": "code",
        "colab": {}
      },
      "source": [
        "cd EVA5/S7/"
      ],
      "execution_count": null,
      "outputs": []
    },
    {
      "cell_type": "code",
      "metadata": {
        "id": "N_dH3ftIzq4x",
        "colab_type": "code",
        "colab": {}
      },
      "source": [
        "from __future__ import print_function\n",
        "import torch\n",
        "import torch.nn as nn\n",
        "import torch.nn.functional as F\n",
        "import torch.optim as optim\n",
        "from torchvision import datasets, transforms\n",
        "import matplotlib.pyplot as plt\n",
        "from torchsummary import summary\n",
        "from tqdm import tqdm"
      ],
      "execution_count": 3,
      "outputs": []
    },
    {
      "cell_type": "code",
      "metadata": {
        "id": "gh4QD8IyzzXt",
        "colab_type": "code",
        "colab": {
          "base_uri": "https://localhost:8080/",
          "height": 72
        },
        "outputId": "7d1c42de-0d22-401f-f530-4728fda66d67"
      },
      "source": [
        "# importing from the repository\n",
        "import transform, dataset, dataloader, normalisation, model, loss_functions, trainer, tester, run_model, plot_metrics, misclassifications\n"
      ],
      "execution_count": 4,
      "outputs": [
        {
          "output_type": "stream",
          "text": [
            "/usr/local/lib/python3.6/dist-packages/statsmodels/tools/_testing.py:19: FutureWarning: pandas.util.testing is deprecated. Use the functions in the public API at pandas.testing instead.\n",
            "  import pandas.util.testing as tm\n"
          ],
          "name": "stderr"
        }
      ]
    },
    {
      "cell_type": "code",
      "metadata": {
        "id": "YcyP_nZaz7i8",
        "colab_type": "code",
        "colab": {
          "base_uri": "https://localhost:8080/",
          "height": 120,
          "referenced_widgets": [
            "05e9a9b472f9428ead34da29c4207581",
            "9bb03b2d07a547e88aec36933b746499",
            "3e39e21aea9b4a19ae149e57f6581041",
            "4bcacee498a4400c9c6c447862fc88df",
            "c290a42b197342e4acaa72ff311f9629",
            "7d01cdffc9ff442398e2fb7f59d8f3aa",
            "043a104f599f494ea75651367c46e5f4",
            "705671f91efa4ded8301bd2bc5803eff"
          ]
        },
        "outputId": "3e3eabb4-83c2-44d6-9149-a046da2b3a33"
      },
      "source": [
        "# loading CIFAR10 dataset and applying transformations\n",
        "\n",
        "train_transforms, test_transforms = transform.cifar10_transforms()\n",
        "trainset, testset = dataset.cifar10_dataset(train_transforms, test_transforms)\n",
        "train_loader, test_loader = dataloader.cifar10_dataloader(trainset, testset)\n",
        "\n",
        "# classes in the data\n",
        "classes = ('plane', 'car', 'bird', 'cat',\n",
        "           'deer', 'dog', 'frog', 'horse', 'ship', 'truck')"
      ],
      "execution_count": 5,
      "outputs": [
        {
          "output_type": "stream",
          "text": [
            "Downloading https://www.cs.toronto.edu/~kriz/cifar-10-python.tar.gz to ./data/cifar-10-python.tar.gz\n"
          ],
          "name": "stdout"
        },
        {
          "output_type": "display_data",
          "data": {
            "application/vnd.jupyter.widget-view+json": {
              "model_id": "05e9a9b472f9428ead34da29c4207581",
              "version_minor": 0,
              "version_major": 2
            },
            "text/plain": [
              "HBox(children=(FloatProgress(value=1.0, bar_style='info', max=1.0), HTML(value='')))"
            ]
          },
          "metadata": {
            "tags": []
          }
        },
        {
          "output_type": "stream",
          "text": [
            "Extracting ./data/cifar-10-python.tar.gz to ./data\n",
            "Files already downloaded and verified\n",
            "CUDA available? True\n"
          ],
          "name": "stdout"
        }
      ]
    },
    {
      "cell_type": "code",
      "metadata": {
        "id": "lKke5WTe0OmH",
        "colab_type": "code",
        "colab": {
          "base_uri": "https://localhost:8080/",
          "height": 34
        },
        "outputId": "5e8a6c0b-a85d-4a84-d92a-93acb7cb7e90"
      },
      "source": [
        "# device(CPU else CUDA)\n",
        "use_cuda = torch.cuda.is_available()\n",
        "device = torch.device(\"cuda\" if use_cuda else \"cpu\")\n",
        "print(device)"
      ],
      "execution_count": 6,
      "outputs": [
        {
          "output_type": "stream",
          "text": [
            "cuda\n"
          ],
          "name": "stdout"
        }
      ]
    },
    {
      "cell_type": "code",
      "metadata": {
        "id": "5d8O0XyK0Yp4",
        "colab_type": "code",
        "colab": {
          "base_uri": "https://localhost:8080/",
          "height": 1000
        },
        "outputId": "1233f658-ef84-45ff-f32c-3acc174265dd"
      },
      "source": [
        "# model summary\n",
        "net = model.Cifar10_Net(norm_type='BN').to(device) # moving model to device\n",
        "print(summary(net, input_size=(3, 32, 32)))"
      ],
      "execution_count": 7,
      "outputs": [
        {
          "output_type": "stream",
          "text": [
            "----------------------------------------------------------------\n",
            "        Layer (type)               Output Shape         Param #\n",
            "================================================================\n",
            "            Conv2d-1           [-1, 32, 32, 32]             896\n",
            "       BatchNorm2d-2           [-1, 32, 32, 32]              64\n",
            "           Dropout-3           [-1, 32, 32, 32]               0\n",
            "              ReLU-4           [-1, 32, 32, 32]               0\n",
            "            Conv2d-5           [-1, 64, 32, 32]          18,496\n",
            "       BatchNorm2d-6           [-1, 64, 32, 32]             128\n",
            "           Dropout-7           [-1, 64, 32, 32]               0\n",
            "              ReLU-8           [-1, 64, 32, 32]               0\n",
            "            Conv2d-9           [-1, 32, 32, 32]           2,080\n",
            "        MaxPool2d-10           [-1, 32, 16, 16]               0\n",
            "      BatchNorm2d-11           [-1, 32, 16, 16]              64\n",
            "          Dropout-12           [-1, 32, 16, 16]               0\n",
            "             ReLU-13           [-1, 32, 16, 16]               0\n",
            "           Conv2d-14           [-1, 64, 16, 16]          18,496\n",
            "      BatchNorm2d-15           [-1, 64, 16, 16]             128\n",
            "          Dropout-16           [-1, 64, 16, 16]               0\n",
            "             ReLU-17           [-1, 64, 16, 16]               0\n",
            "           Conv2d-18          [-1, 128, 16, 16]          73,856\n",
            "      BatchNorm2d-19          [-1, 128, 16, 16]             256\n",
            "          Dropout-20          [-1, 128, 16, 16]               0\n",
            "             ReLU-21          [-1, 128, 16, 16]               0\n",
            "           Conv2d-22           [-1, 32, 16, 16]           4,128\n",
            "        MaxPool2d-23             [-1, 32, 8, 8]               0\n",
            "      BatchNorm2d-24             [-1, 32, 8, 8]              64\n",
            "          Dropout-25             [-1, 32, 8, 8]               0\n",
            "             ReLU-26             [-1, 32, 8, 8]               0\n",
            "           Conv2d-27             [-1, 64, 8, 8]           2,112\n",
            "      BatchNorm2d-28             [-1, 64, 8, 8]             128\n",
            "          Dropout-29             [-1, 64, 8, 8]               0\n",
            "             ReLU-30             [-1, 64, 8, 8]               0\n",
            "           Conv2d-31            [-1, 128, 8, 8]          73,856\n",
            "      BatchNorm2d-32            [-1, 128, 8, 8]             256\n",
            "          Dropout-33            [-1, 128, 8, 8]               0\n",
            "             ReLU-34            [-1, 128, 8, 8]               0\n",
            "           Conv2d-35             [-1, 32, 8, 8]           4,128\n",
            "      BatchNorm2d-36             [-1, 32, 8, 8]              64\n",
            "          Dropout-37             [-1, 32, 8, 8]               0\n",
            "             ReLU-38             [-1, 32, 8, 8]               0\n",
            "           Conv2d-39             [-1, 64, 8, 8]          18,496\n",
            "      BatchNorm2d-40             [-1, 64, 8, 8]             128\n",
            "          Dropout-41             [-1, 64, 8, 8]               0\n",
            "             ReLU-42             [-1, 64, 8, 8]               0\n",
            "           Conv2d-43             [-1, 64, 8, 8]             640\n",
            "           Conv2d-44             [-1, 64, 8, 8]           4,160\n",
            "      BatchNorm2d-45             [-1, 64, 8, 8]             128\n",
            "          Dropout-46             [-1, 64, 8, 8]               0\n",
            "             ReLU-47             [-1, 64, 8, 8]               0\n",
            "           Conv2d-48            [-1, 128, 8, 8]          73,856\n",
            "      BatchNorm2d-49            [-1, 128, 8, 8]             256\n",
            "          Dropout-50            [-1, 128, 8, 8]               0\n",
            "             ReLU-51            [-1, 128, 8, 8]               0\n",
            "           Conv2d-52            [-1, 128, 6, 6]         147,584\n",
            "      BatchNorm2d-53            [-1, 128, 6, 6]             256\n",
            "          Dropout-54            [-1, 128, 6, 6]               0\n",
            "             ReLU-55            [-1, 128, 6, 6]               0\n",
            "        AvgPool2d-56            [-1, 128, 1, 1]               0\n",
            "           Conv2d-57             [-1, 64, 1, 1]           8,256\n",
            "      BatchNorm2d-58             [-1, 64, 1, 1]             128\n",
            "          Dropout-59             [-1, 64, 1, 1]               0\n",
            "             ReLU-60             [-1, 64, 1, 1]               0\n",
            "           Conv2d-61             [-1, 10, 1, 1]             650\n",
            "================================================================\n",
            "Total params: 453,738\n",
            "Trainable params: 453,738\n",
            "Non-trainable params: 0\n",
            "----------------------------------------------------------------\n",
            "Input size (MB): 0.01\n",
            "Forward/backward pass size (MB): 6.24\n",
            "Params size (MB): 1.73\n",
            "Estimated Total Size (MB): 7.98\n",
            "----------------------------------------------------------------\n",
            "None\n"
          ],
          "name": "stdout"
        }
      ]
    },
    {
      "cell_type": "code",
      "metadata": {
        "id": "wnVccbBb0kp1",
        "colab_type": "code",
        "colab": {
          "base_uri": "https://localhost:8080/",
          "height": 1000
        },
        "outputId": "2e5d21d5-0615-4df2-90eb-51c37c0a588b"
      },
      "source": [
        "# final evaluation\n",
        "EPOCHS = 35\n",
        "optimizer = optim.SGD(net.parameters(), lr = 0.001, momentum = 0.9)\n",
        "\n",
        "train_acc = [] # empty lists to store losses and accuracies\n",
        "train_losses = []\n",
        "test_acc = []\n",
        "test_losses = []\n",
        "\n",
        "# running the model\n",
        "run_model.evaluation( net, train_loader, test_loader, optimizer, EPOCHS, device,\n",
        "                    train_acc, train_losses, test_acc, test_losses)"
      ],
      "execution_count": 8,
      "outputs": [
        {
          "output_type": "stream",
          "text": [
            "\r  0%|          | 0/391 [00:00<?, ?it/s]"
          ],
          "name": "stderr"
        },
        {
          "output_type": "stream",
          "text": [
            "\n",
            " Epoch: 1\n"
          ],
          "name": "stdout"
        },
        {
          "output_type": "stream",
          "text": [
            "Loss = 1.5773602724075317 Batch_id = 390 Accuracy = 31.88: 100%|██████████| 391/391 [00:17<00:00, 21.85it/s]\n",
            "  0%|          | 0/391 [00:00<?, ?it/s]"
          ],
          "name": "stderr"
        },
        {
          "output_type": "stream",
          "text": [
            "\n",
            "Test set: Average loss: 0.0149, Accuracy: 3072/10000 (30.72%)\n",
            "\n",
            "\n",
            " Epoch: 2\n"
          ],
          "name": "stdout"
        },
        {
          "output_type": "stream",
          "text": [
            "Loss = 1.28995943069458 Batch_id = 390 Accuracy = 46.40: 100%|██████████| 391/391 [00:17<00:00, 21.86it/s]\n",
            "  0%|          | 0/391 [00:00<?, ?it/s]"
          ],
          "name": "stderr"
        },
        {
          "output_type": "stream",
          "text": [
            "\n",
            "Test set: Average loss: 0.0117, Accuracy: 4697/10000 (46.97%)\n",
            "\n",
            "\n",
            " Epoch: 3\n"
          ],
          "name": "stdout"
        },
        {
          "output_type": "stream",
          "text": [
            "Loss = 1.0757853984832764 Batch_id = 390 Accuracy = 53.64: 100%|██████████| 391/391 [00:17<00:00, 21.92it/s]\n",
            "  0%|          | 0/391 [00:00<?, ?it/s]"
          ],
          "name": "stderr"
        },
        {
          "output_type": "stream",
          "text": [
            "\n",
            "Test set: Average loss: 0.0101, Accuracy: 5529/10000 (55.29%)\n",
            "\n",
            "\n",
            " Epoch: 4\n"
          ],
          "name": "stdout"
        },
        {
          "output_type": "stream",
          "text": [
            "Loss = 1.1747791767120361 Batch_id = 390 Accuracy = 58.27: 100%|██████████| 391/391 [00:17<00:00, 21.99it/s]\n",
            "  0%|          | 0/391 [00:00<?, ?it/s]"
          ],
          "name": "stderr"
        },
        {
          "output_type": "stream",
          "text": [
            "\n",
            "Test set: Average loss: 0.0094, Accuracy: 5771/10000 (57.71%)\n",
            "\n",
            "\n",
            " Epoch: 5\n"
          ],
          "name": "stdout"
        },
        {
          "output_type": "stream",
          "text": [
            "Loss = 0.9017178416252136 Batch_id = 390 Accuracy = 61.46: 100%|██████████| 391/391 [00:17<00:00, 21.89it/s]\n",
            "  0%|          | 0/391 [00:00<?, ?it/s]"
          ],
          "name": "stderr"
        },
        {
          "output_type": "stream",
          "text": [
            "\n",
            "Test set: Average loss: 0.0080, Accuracy: 6363/10000 (63.63%)\n",
            "\n",
            "\n",
            " Epoch: 6\n"
          ],
          "name": "stdout"
        },
        {
          "output_type": "stream",
          "text": [
            "Loss = 1.210325002670288 Batch_id = 390 Accuracy = 64.03: 100%|██████████| 391/391 [00:17<00:00, 22.05it/s]\n",
            "  0%|          | 0/391 [00:00<?, ?it/s]"
          ],
          "name": "stderr"
        },
        {
          "output_type": "stream",
          "text": [
            "\n",
            "Test set: Average loss: 0.0079, Accuracy: 6449/10000 (64.49%)\n",
            "\n",
            "\n",
            " Epoch: 7\n"
          ],
          "name": "stdout"
        },
        {
          "output_type": "stream",
          "text": [
            "Loss = 1.01338791847229 Batch_id = 390 Accuracy = 66.21: 100%|██████████| 391/391 [00:18<00:00, 21.61it/s]\n",
            "  0%|          | 0/391 [00:00<?, ?it/s]"
          ],
          "name": "stderr"
        },
        {
          "output_type": "stream",
          "text": [
            "\n",
            "Test set: Average loss: 0.0077, Accuracy: 6511/10000 (65.11%)\n",
            "\n",
            "\n",
            " Epoch: 8\n"
          ],
          "name": "stdout"
        },
        {
          "output_type": "stream",
          "text": [
            "Loss = 0.8130167722702026 Batch_id = 390 Accuracy = 67.55: 100%|██████████| 391/391 [00:17<00:00, 21.81it/s]\n",
            "  0%|          | 0/391 [00:00<?, ?it/s]"
          ],
          "name": "stderr"
        },
        {
          "output_type": "stream",
          "text": [
            "\n",
            "Test set: Average loss: 0.0071, Accuracy: 6854/10000 (68.54%)\n",
            "\n",
            "\n",
            " Epoch: 9\n"
          ],
          "name": "stdout"
        },
        {
          "output_type": "stream",
          "text": [
            "Loss = 0.9459511637687683 Batch_id = 390 Accuracy = 69.53: 100%|██████████| 391/391 [00:17<00:00, 21.91it/s]\n",
            "  0%|          | 0/391 [00:00<?, ?it/s]"
          ],
          "name": "stderr"
        },
        {
          "output_type": "stream",
          "text": [
            "\n",
            "Test set: Average loss: 0.0075, Accuracy: 6681/10000 (66.81%)\n",
            "\n",
            "\n",
            " Epoch: 10\n"
          ],
          "name": "stdout"
        },
        {
          "output_type": "stream",
          "text": [
            "Loss = 0.8901370167732239 Batch_id = 390 Accuracy = 70.78: 100%|██████████| 391/391 [00:17<00:00, 21.92it/s]\n",
            "  0%|          | 0/391 [00:00<?, ?it/s]"
          ],
          "name": "stderr"
        },
        {
          "output_type": "stream",
          "text": [
            "\n",
            "Test set: Average loss: 0.0070, Accuracy: 6891/10000 (68.91%)\n",
            "\n",
            "\n",
            " Epoch: 11\n"
          ],
          "name": "stdout"
        },
        {
          "output_type": "stream",
          "text": [
            "Loss = 0.7709861993789673 Batch_id = 390 Accuracy = 72.20: 100%|██████████| 391/391 [00:17<00:00, 21.79it/s]\n",
            "  0%|          | 0/391 [00:00<?, ?it/s]"
          ],
          "name": "stderr"
        },
        {
          "output_type": "stream",
          "text": [
            "\n",
            "Test set: Average loss: 0.0063, Accuracy: 7213/10000 (72.13%)\n",
            "\n",
            "\n",
            " Epoch: 12\n"
          ],
          "name": "stdout"
        },
        {
          "output_type": "stream",
          "text": [
            "Loss = 0.7490301132202148 Batch_id = 390 Accuracy = 73.25: 100%|██████████| 391/391 [00:17<00:00, 21.94it/s]\n",
            "  0%|          | 0/391 [00:00<?, ?it/s]"
          ],
          "name": "stderr"
        },
        {
          "output_type": "stream",
          "text": [
            "\n",
            "Test set: Average loss: 0.0065, Accuracy: 7132/10000 (71.32%)\n",
            "\n",
            "\n",
            " Epoch: 13\n"
          ],
          "name": "stdout"
        },
        {
          "output_type": "stream",
          "text": [
            "Loss = 0.6614786386489868 Batch_id = 390 Accuracy = 74.15: 100%|██████████| 391/391 [00:17<00:00, 21.99it/s]\n",
            "  0%|          | 0/391 [00:00<?, ?it/s]"
          ],
          "name": "stderr"
        },
        {
          "output_type": "stream",
          "text": [
            "\n",
            "Test set: Average loss: 0.0061, Accuracy: 7378/10000 (73.78%)\n",
            "\n",
            "\n",
            " Epoch: 14\n"
          ],
          "name": "stdout"
        },
        {
          "output_type": "stream",
          "text": [
            "Loss = 0.5872038006782532 Batch_id = 390 Accuracy = 75.25: 100%|██████████| 391/391 [00:17<00:00, 21.92it/s]\n",
            "  0%|          | 0/391 [00:00<?, ?it/s]"
          ],
          "name": "stderr"
        },
        {
          "output_type": "stream",
          "text": [
            "\n",
            "Test set: Average loss: 0.0060, Accuracy: 7333/10000 (73.33%)\n",
            "\n",
            "\n",
            " Epoch: 15\n"
          ],
          "name": "stdout"
        },
        {
          "output_type": "stream",
          "text": [
            "Loss = 0.6079832315444946 Batch_id = 390 Accuracy = 76.13: 100%|██████████| 391/391 [00:17<00:00, 21.78it/s]\n",
            "  0%|          | 0/391 [00:00<?, ?it/s]"
          ],
          "name": "stderr"
        },
        {
          "output_type": "stream",
          "text": [
            "\n",
            "Test set: Average loss: 0.0057, Accuracy: 7523/10000 (75.23%)\n",
            "\n",
            "\n",
            " Epoch: 16\n"
          ],
          "name": "stdout"
        },
        {
          "output_type": "stream",
          "text": [
            "Loss = 0.5269604921340942 Batch_id = 390 Accuracy = 76.80: 100%|██████████| 391/391 [00:17<00:00, 22.07it/s]\n",
            "  0%|          | 0/391 [00:00<?, ?it/s]"
          ],
          "name": "stderr"
        },
        {
          "output_type": "stream",
          "text": [
            "\n",
            "Test set: Average loss: 0.0052, Accuracy: 7712/10000 (77.12%)\n",
            "\n",
            "\n",
            " Epoch: 17\n"
          ],
          "name": "stdout"
        },
        {
          "output_type": "stream",
          "text": [
            "Loss = 0.6178042888641357 Batch_id = 390 Accuracy = 77.81: 100%|██████████| 391/391 [00:17<00:00, 21.99it/s]\n",
            "  0%|          | 0/391 [00:00<?, ?it/s]"
          ],
          "name": "stderr"
        },
        {
          "output_type": "stream",
          "text": [
            "\n",
            "Test set: Average loss: 0.0052, Accuracy: 7699/10000 (76.99%)\n",
            "\n",
            "\n",
            " Epoch: 18\n"
          ],
          "name": "stdout"
        },
        {
          "output_type": "stream",
          "text": [
            "Loss = 0.5478025674819946 Batch_id = 390 Accuracy = 78.02: 100%|██████████| 391/391 [00:17<00:00, 22.05it/s]\n",
            "  0%|          | 0/391 [00:00<?, ?it/s]"
          ],
          "name": "stderr"
        },
        {
          "output_type": "stream",
          "text": [
            "\n",
            "Test set: Average loss: 0.0050, Accuracy: 7774/10000 (77.74%)\n",
            "\n",
            "\n",
            " Epoch: 19\n"
          ],
          "name": "stdout"
        },
        {
          "output_type": "stream",
          "text": [
            "Loss = 0.6599165797233582 Batch_id = 390 Accuracy = 78.56: 100%|██████████| 391/391 [00:17<00:00, 21.94it/s]\n",
            "  0%|          | 0/391 [00:00<?, ?it/s]"
          ],
          "name": "stderr"
        },
        {
          "output_type": "stream",
          "text": [
            "\n",
            "Test set: Average loss: 0.0051, Accuracy: 7776/10000 (77.76%)\n",
            "\n",
            "\n",
            " Epoch: 20\n"
          ],
          "name": "stdout"
        },
        {
          "output_type": "stream",
          "text": [
            "Loss = 0.7322110533714294 Batch_id = 390 Accuracy = 79.14: 100%|██████████| 391/391 [00:17<00:00, 22.13it/s]\n",
            "  0%|          | 0/391 [00:00<?, ?it/s]"
          ],
          "name": "stderr"
        },
        {
          "output_type": "stream",
          "text": [
            "\n",
            "Test set: Average loss: 0.0049, Accuracy: 7868/10000 (78.68%)\n",
            "\n",
            "\n",
            " Epoch: 21\n"
          ],
          "name": "stdout"
        },
        {
          "output_type": "stream",
          "text": [
            "Loss = 0.7397705316543579 Batch_id = 390 Accuracy = 79.87: 100%|██████████| 391/391 [00:17<00:00, 22.09it/s]\n",
            "  0%|          | 0/391 [00:00<?, ?it/s]"
          ],
          "name": "stderr"
        },
        {
          "output_type": "stream",
          "text": [
            "\n",
            "Test set: Average loss: 0.0048, Accuracy: 7943/10000 (79.43%)\n",
            "\n",
            "\n",
            " Epoch: 22\n"
          ],
          "name": "stdout"
        },
        {
          "output_type": "stream",
          "text": [
            "Loss = 0.557403028011322 Batch_id = 390 Accuracy = 80.37: 100%|██████████| 391/391 [00:17<00:00, 22.03it/s]\n",
            "  0%|          | 0/391 [00:00<?, ?it/s]"
          ],
          "name": "stderr"
        },
        {
          "output_type": "stream",
          "text": [
            "\n",
            "Test set: Average loss: 0.0046, Accuracy: 7963/10000 (79.63%)\n",
            "\n",
            "\n",
            " Epoch: 23\n"
          ],
          "name": "stdout"
        },
        {
          "output_type": "stream",
          "text": [
            "Loss = 0.6268399953842163 Batch_id = 390 Accuracy = 80.83: 100%|██████████| 391/391 [00:17<00:00, 21.83it/s]\n",
            "  0%|          | 0/391 [00:00<?, ?it/s]"
          ],
          "name": "stderr"
        },
        {
          "output_type": "stream",
          "text": [
            "\n",
            "Test set: Average loss: 0.0047, Accuracy: 7952/10000 (79.52%)\n",
            "\n",
            "\n",
            " Epoch: 24\n"
          ],
          "name": "stdout"
        },
        {
          "output_type": "stream",
          "text": [
            "Loss = 0.5266904830932617 Batch_id = 390 Accuracy = 81.14: 100%|██████████| 391/391 [00:17<00:00, 22.08it/s]\n",
            "  0%|          | 0/391 [00:00<?, ?it/s]"
          ],
          "name": "stderr"
        },
        {
          "output_type": "stream",
          "text": [
            "\n",
            "Test set: Average loss: 0.0046, Accuracy: 8018/10000 (80.18%)\n",
            "\n",
            "\n",
            " Epoch: 25\n"
          ],
          "name": "stdout"
        },
        {
          "output_type": "stream",
          "text": [
            "Loss = 0.47010716795921326 Batch_id = 390 Accuracy = 81.48: 100%|██████████| 391/391 [00:17<00:00, 21.93it/s]\n",
            "  0%|          | 0/391 [00:00<?, ?it/s]"
          ],
          "name": "stderr"
        },
        {
          "output_type": "stream",
          "text": [
            "\n",
            "Test set: Average loss: 0.0047, Accuracy: 7978/10000 (79.78%)\n",
            "\n",
            "\n",
            " Epoch: 26\n"
          ],
          "name": "stdout"
        },
        {
          "output_type": "stream",
          "text": [
            "Loss = 0.4652169346809387 Batch_id = 390 Accuracy = 82.08: 100%|██████████| 391/391 [00:17<00:00, 22.14it/s]\n",
            "  0%|          | 0/391 [00:00<?, ?it/s]"
          ],
          "name": "stderr"
        },
        {
          "output_type": "stream",
          "text": [
            "\n",
            "Test set: Average loss: 0.0045, Accuracy: 8059/10000 (80.59%)\n",
            "\n",
            "\n",
            " Epoch: 27\n"
          ],
          "name": "stdout"
        },
        {
          "output_type": "stream",
          "text": [
            "Loss = 0.5380213260650635 Batch_id = 390 Accuracy = 82.33: 100%|██████████| 391/391 [00:17<00:00, 21.90it/s]\n",
            "  0%|          | 0/391 [00:00<?, ?it/s]"
          ],
          "name": "stderr"
        },
        {
          "output_type": "stream",
          "text": [
            "\n",
            "Test set: Average loss: 0.0045, Accuracy: 8032/10000 (80.32%)\n",
            "\n",
            "\n",
            " Epoch: 28\n"
          ],
          "name": "stdout"
        },
        {
          "output_type": "stream",
          "text": [
            "Loss = 0.4834774434566498 Batch_id = 390 Accuracy = 82.59: 100%|██████████| 391/391 [00:17<00:00, 22.07it/s]\n",
            "  0%|          | 0/391 [00:00<?, ?it/s]"
          ],
          "name": "stderr"
        },
        {
          "output_type": "stream",
          "text": [
            "\n",
            "Test set: Average loss: 0.0044, Accuracy: 8166/10000 (81.66%)\n",
            "\n",
            "\n",
            " Epoch: 29\n"
          ],
          "name": "stdout"
        },
        {
          "output_type": "stream",
          "text": [
            "Loss = 0.6189842820167542 Batch_id = 390 Accuracy = 83.01: 100%|██████████| 391/391 [00:17<00:00, 22.13it/s]\n",
            "  0%|          | 0/391 [00:00<?, ?it/s]"
          ],
          "name": "stderr"
        },
        {
          "output_type": "stream",
          "text": [
            "\n",
            "Test set: Average loss: 0.0045, Accuracy: 8080/10000 (80.80%)\n",
            "\n",
            "\n",
            " Epoch: 30\n"
          ],
          "name": "stdout"
        },
        {
          "output_type": "stream",
          "text": [
            "Loss = 0.7194088697433472 Batch_id = 390 Accuracy = 83.30: 100%|██████████| 391/391 [00:17<00:00, 22.01it/s]\n",
            "  0%|          | 0/391 [00:00<?, ?it/s]"
          ],
          "name": "stderr"
        },
        {
          "output_type": "stream",
          "text": [
            "\n",
            "Test set: Average loss: 0.0045, Accuracy: 8081/10000 (80.81%)\n",
            "\n",
            "\n",
            " Epoch: 31\n"
          ],
          "name": "stdout"
        },
        {
          "output_type": "stream",
          "text": [
            "Loss = 0.5037304162979126 Batch_id = 390 Accuracy = 83.64: 100%|██████████| 391/391 [00:17<00:00, 21.98it/s]\n",
            "  0%|          | 0/391 [00:00<?, ?it/s]"
          ],
          "name": "stderr"
        },
        {
          "output_type": "stream",
          "text": [
            "\n",
            "Test set: Average loss: 0.0043, Accuracy: 8164/10000 (81.64%)\n",
            "\n",
            "\n",
            " Epoch: 32\n"
          ],
          "name": "stdout"
        },
        {
          "output_type": "stream",
          "text": [
            "Loss = 0.5598341822624207 Batch_id = 390 Accuracy = 83.89: 100%|██████████| 391/391 [00:17<00:00, 22.09it/s]\n",
            "  0%|          | 0/391 [00:00<?, ?it/s]"
          ],
          "name": "stderr"
        },
        {
          "output_type": "stream",
          "text": [
            "\n",
            "Test set: Average loss: 0.0042, Accuracy: 8240/10000 (82.40%)\n",
            "\n",
            "\n",
            " Epoch: 33\n"
          ],
          "name": "stdout"
        },
        {
          "output_type": "stream",
          "text": [
            "Loss = 0.48985370993614197 Batch_id = 390 Accuracy = 84.10: 100%|██████████| 391/391 [00:17<00:00, 22.09it/s]\n",
            "  0%|          | 0/391 [00:00<?, ?it/s]"
          ],
          "name": "stderr"
        },
        {
          "output_type": "stream",
          "text": [
            "\n",
            "Test set: Average loss: 0.0042, Accuracy: 8197/10000 (81.97%)\n",
            "\n",
            "\n",
            " Epoch: 34\n"
          ],
          "name": "stdout"
        },
        {
          "output_type": "stream",
          "text": [
            "Loss = 0.41870182752609253 Batch_id = 390 Accuracy = 84.40: 100%|██████████| 391/391 [00:17<00:00, 21.97it/s]\n",
            "  0%|          | 0/391 [00:00<?, ?it/s]"
          ],
          "name": "stderr"
        },
        {
          "output_type": "stream",
          "text": [
            "\n",
            "Test set: Average loss: 0.0042, Accuracy: 8261/10000 (82.61%)\n",
            "\n",
            "\n",
            " Epoch: 35\n"
          ],
          "name": "stdout"
        },
        {
          "output_type": "stream",
          "text": [
            "Loss = 0.5321363806724548 Batch_id = 390 Accuracy = 84.70: 100%|██████████| 391/391 [00:18<00:00, 21.65it/s]\n"
          ],
          "name": "stderr"
        },
        {
          "output_type": "stream",
          "text": [
            "\n",
            "Test set: Average loss: 0.0042, Accuracy: 8259/10000 (82.59%)\n",
            "\n"
          ],
          "name": "stdout"
        }
      ]
    },
    {
      "cell_type": "code",
      "metadata": {
        "id": "USh2NmDF1Ple",
        "colab_type": "code",
        "colab": {
          "base_uri": "https://localhost:8080/",
          "height": 665
        },
        "outputId": "3de339dd-0908-4f7d-e9c1-d79d405dc66a"
      },
      "source": [
        "# plotting the model metrics\n",
        "\n",
        "train_metric = (train_acc, train_losses)\n",
        "test_metric = (test_acc, test_losses)\n",
        "\n",
        "plot_metrics.metrics(train_metric, test_metric)"
      ],
      "execution_count": 9,
      "outputs": [
        {
          "output_type": "display_data",
          "data": {
            "image/png": "[encoded data removed]",
            "text/plain": [
              "<Figure size 1008x720 with 4 Axes>"
            ]
          },
          "metadata": {
            "tags": []
          }
        }
      ]
    },
    {
      "cell_type": "markdown",
      "metadata": {
        "id": "KHffeO78_iVX",
        "colab_type": "text"
      },
      "source": [
        "## NUMBER OF EPOCHS = 35\n",
        "## BEST TRAIN ACCURACY: 84.70%\n",
        "## BEST TEST ACCURACY: 82.61%"
      ]
    },
    {
      "cell_type": "code",
      "metadata": {
        "id": "W_lZkm0T-SzW",
        "colab_type": "code",
        "colab": {
          "base_uri": "https://localhost:8080/",
          "height": 194
        },
        "outputId": "e7d0f89a-6ec1-4cb5-82bb-8d5e4c0282af"
      },
      "source": [
        "# printing class-wise accuracy\n",
        "import classwise_accuracy\n",
        "\n",
        "classwise_accuracy.classwise_accuracy(net, test_loader, device, classes)"
      ],
      "execution_count": 15,
      "outputs": [
        {
          "output_type": "stream",
          "text": [
            "Accuracy of plane : 93 %\n",
            "Accuracy of   car : 85 %\n",
            "Accuracy of  bird : 75 %\n",
            "Accuracy of   cat : 67 %\n",
            "Accuracy of  deer : 90 %\n",
            "Accuracy of   dog : 75 %\n",
            "Accuracy of  frog : 97 %\n",
            "Accuracy of horse : 69 %\n",
            "Accuracy of  ship : 93 %\n",
            "Accuracy of truck : 89 %\n"
          ],
          "name": "stdout"
        }
      ]
    }
  ]
}