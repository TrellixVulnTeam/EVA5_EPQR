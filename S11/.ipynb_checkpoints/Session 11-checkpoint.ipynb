{
 "cells": [
  {
   "cell_type": "code",
   "execution_count": 3,
   "metadata": {},
   "outputs": [],
   "source": [
    "from __future__ import print_function\n",
    "\n",
    "import matplotlib.pyplot as plt\n",
    "\n",
    "import numpy as np\n",
    "\n",
    "import torch\n",
    "import torch.nn as nn\n",
    "import torch.nn.functional as F\n",
    "import torch.optim as optim\n",
    "from torch.optim.lr_scheduler import ReduceLROnPlateau\n",
    "from torchvision import datasets, transforms\n",
    "from torchsummary import summary\n",
    "\n",
    "from tqdm import tqdm\n",
    "\n",
    "import albumentations as A\n",
    "import albumentations.pytorch.transforms as APT"
   ]
  },
  {
   "cell_type": "code",
   "execution_count": 4,
   "metadata": {},
   "outputs": [],
   "source": [
    "from data_loading import transform, dataset, dataloader\n",
    "from models import resnet, cifar10_model, davidnet\n",
    "from utils import plot_metrics, misclassifications, classwise_accuracy, show_image\n",
    "from lr_finder import LRFinder\n",
    "import normalisation as norm, loss_functions, trainer, tester, run_model\n",
    "import run_grad_cam"
   ]
  },
  {
   "cell_type": "code",
   "execution_count": 5,
   "metadata": {},
   "outputs": [],
   "source": [
    "mean = (0.49139968, 0.48215841, 0.44653091)\n",
    "std = (0.24703223, 0.24348513, 0.26158784)"
   ]
  },
  {
   "cell_type": "code",
   "execution_count": 6,
   "metadata": {},
   "outputs": [
    {
     "name": "stdout",
     "output_type": "stream",
     "text": [
      "Files already downloaded and verified\n",
      "Files already downloaded and verified\n",
      "CUDA available? True\n"
     ]
    }
   ],
   "source": [
    "# train_transforms, test_transforms = transform.cifar10_transforms(mean, std)\n",
    "train_transforms, test_transforms = transform.cifar10_s11_albumentations(mean, std)\n",
    "trainset, testset = dataset.cifar10_dataset(train_transforms, test_transforms)\n",
    "train_loader, test_loader = dataloader.cifar10_dataloader(trainset, testset, batch_size=512)\n",
    "# ToTensorV2()"
   ]
  },
  {
   "cell_type": "code",
   "execution_count": 5,
   "metadata": {},
   "outputs": [
    {
     "name": "stdout",
     "output_type": "stream",
     "text": [
      "cuda\n"
     ]
    }
   ],
   "source": [
    "# device\n",
    "use_cuda = torch.cuda.is_available()\n",
    "device = torch.device(\"cuda\" if use_cuda else \"cpu\")\n",
    "print(device)"
   ]
  },
  {
   "cell_type": "code",
   "execution_count": 6,
   "metadata": {},
   "outputs": [],
   "source": [
    "# classes in the data\n",
    "classes = ('plane', 'car', 'bird', 'cat',\n",
    "           'deer', 'dog', 'frog', 'horse', 'ship', 'truck')"
   ]
  },
  {
   "cell_type": "code",
   "execution_count": 7,
   "metadata": {},
   "outputs": [
    {
     "data": {
      "image/png": "[encoded data removed]",
      "text/plain": [
       "<Figure size 2304x2304 with 1 Axes>"
      ]
     },
     "metadata": {},
     "output_type": "display_data"
    }
   ],
   "source": [
    "# plotting dataset images(32x32 sized images)\n",
    "show_image.plot_dataset_images(device, classes, test_loader, mean, std, num_of_images=1)"
   ]
  },
  {
   "cell_type": "code",
   "execution_count": 8,
   "metadata": {},
   "outputs": [
    {
     "name": "stdout",
     "output_type": "stream",
     "text": [
      "torch.Size([2, 512])\n",
      "----------------------------------------------------------------\n",
      "        Layer (type)               Output Shape         Param #\n",
      "================================================================\n",
      "            Conv2d-1           [-1, 64, 32, 32]           1,728\n",
      "       BatchNorm2d-2           [-1, 64, 32, 32]             128\n",
      "              ReLU-3           [-1, 64, 32, 32]               0\n",
      "            Conv2d-4          [-1, 128, 32, 32]          73,728\n",
      "         MaxPool2d-5          [-1, 128, 16, 16]               0\n",
      "       BatchNorm2d-6          [-1, 128, 16, 16]             256\n",
      "              ReLU-7          [-1, 128, 16, 16]               0\n",
      "            Conv2d-8          [-1, 128, 16, 16]         147,456\n",
      "       BatchNorm2d-9          [-1, 128, 16, 16]             256\n",
      "           Conv2d-10          [-1, 128, 16, 16]         147,456\n",
      "      BatchNorm2d-11          [-1, 128, 16, 16]             256\n",
      "       BasicBlock-12          [-1, 128, 16, 16]               0\n",
      "           Conv2d-13          [-1, 128, 16, 16]         147,456\n",
      "      BatchNorm2d-14          [-1, 128, 16, 16]             256\n",
      "           Conv2d-15          [-1, 128, 16, 16]         147,456\n",
      "      BatchNorm2d-16          [-1, 128, 16, 16]             256\n",
      "       BasicBlock-17          [-1, 128, 16, 16]               0\n",
      "           Conv2d-18          [-1, 256, 16, 16]         294,912\n",
      "        MaxPool2d-19            [-1, 256, 8, 8]               0\n",
      "      BatchNorm2d-20            [-1, 256, 8, 8]             512\n",
      "             ReLU-21            [-1, 256, 8, 8]               0\n",
      "           Conv2d-22            [-1, 512, 8, 8]       1,179,648\n",
      "        MaxPool2d-23            [-1, 512, 4, 4]               0\n",
      "      BatchNorm2d-24            [-1, 512, 4, 4]           1,024\n",
      "             ReLU-25            [-1, 512, 4, 4]               0\n",
      "           Conv2d-26            [-1, 512, 4, 4]       2,359,296\n",
      "      BatchNorm2d-27            [-1, 512, 4, 4]           1,024\n",
      "           Conv2d-28            [-1, 512, 4, 4]       2,359,296\n",
      "      BatchNorm2d-29            [-1, 512, 4, 4]           1,024\n",
      "       BasicBlock-30            [-1, 512, 4, 4]               0\n",
      "           Conv2d-31            [-1, 512, 4, 4]       2,359,296\n",
      "      BatchNorm2d-32            [-1, 512, 4, 4]           1,024\n",
      "           Conv2d-33            [-1, 512, 4, 4]       2,359,296\n",
      "      BatchNorm2d-34            [-1, 512, 4, 4]           1,024\n",
      "       BasicBlock-35            [-1, 512, 4, 4]               0\n",
      "        MaxPool2d-36            [-1, 512, 1, 1]               0\n",
      "           Linear-37                   [-1, 10]           5,130\n",
      "================================================================\n",
      "Total params: 11,589,194\n",
      "Trainable params: 11,589,194\n",
      "Non-trainable params: 0\n",
      "----------------------------------------------------------------\n",
      "Input size (MB): 0.01\n",
      "Forward/backward pass size (MB): 7.69\n",
      "Params size (MB): 44.21\n",
      "Estimated Total Size (MB): 51.91\n",
      "----------------------------------------------------------------\n",
      "None\n"
     ]
    }
   ],
   "source": [
    "# model summary\n",
    "net = davidnet.DavidNet().to(device)\n",
    "print(summary(net, input_size=(3, 32, 32)))"
   ]
  },
  {
   "cell_type": "code",
   "execution_count": 9,
   "metadata": {},
   "outputs": [
    {
     "data": {
      "text/plain": [
       "128"
      ]
     },
     "execution_count": 9,
     "metadata": {},
     "output_type": "execute_result"
    }
   ],
   "source": [
    "class xyz():\n",
    "    def __init__(self):\n",
    "        self.in_planes = [128, 512]\n",
    "        \n",
    "    def make(self, in_val):\n",
    "        return self.in_planes[in_val]\n",
    "        \n",
    "        \n",
    "x = xyz()\n",
    "x.make(0)"
   ]
  }
 ],
 "metadata": {
  "kernelspec": {
   "display_name": "Python 3",
   "language": "python",
   "name": "python3"
  },
  "language_info": {
   "codemirror_mode": {
    "name": "ipython",
    "version": 3
   },
   "file_extension": ".py",
   "mimetype": "text/x-python",
   "name": "python",
   "nbconvert_exporter": "python",
   "pygments_lexer": "ipython3",
   "version": "3.8.3"
  }
 },
 "nbformat": 4,
 "nbformat_minor": 4
}
