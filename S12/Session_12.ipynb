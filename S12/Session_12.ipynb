{
  "nbformat": 4,
  "nbformat_minor": 0,
  "metadata": {
    "colab": {
      "name": "Session_12 Trial 3.ipynb",
      "provenance": [],
      "collapsed_sections": [],
      "authorship_tag": "ABX9TyOAseFFt5YwUnjeshYEsUo4"
    },
    "kernelspec": {
      "name": "python3",
      "display_name": "Python 3"
    },
    "accelerator": "GPU",
    "widgets": {
      "application/vnd.jupyter.widget-state+json": {
        "19c8c58dc32843038ed27c6cb2afb053": {
          "model_module": "@jupyter-widgets/controls",
          "model_name": "HBoxModel",
          "state": {
            "_view_name": "HBoxView",
            "_dom_classes": [],
            "_model_name": "HBoxModel",
            "_view_module": "@jupyter-widgets/controls",
            "_model_module_version": "1.5.0",
            "_view_count": null,
            "_view_module_version": "1.5.0",
            "box_style": "",
            "layout": "IPY_MODEL_710701e1ccb64ad499ff740ccd962122",
            "_model_module": "@jupyter-widgets/controls",
            "children": [
              "IPY_MODEL_d29c2a57447844b595b83ff5b0368374",
              "IPY_MODEL_0346590899944b068b6989133ea83d08"
            ]
          }
        },
        "710701e1ccb64ad499ff740ccd962122": {
          "model_module": "@jupyter-widgets/base",
          "model_name": "LayoutModel",
          "state": {
            "_view_name": "LayoutView",
            "grid_template_rows": null,
            "right": null,
            "justify_content": null,
            "_view_module": "@jupyter-widgets/base",
            "overflow": null,
            "_model_module_version": "1.2.0",
            "_view_count": null,
            "flex_flow": null,
            "width": null,
            "min_width": null,
            "border": null,
            "align_items": null,
            "bottom": null,
            "_model_module": "@jupyter-widgets/base",
            "top": null,
            "grid_column": null,
            "overflow_y": null,
            "overflow_x": null,
            "grid_auto_flow": null,
            "grid_area": null,
            "grid_template_columns": null,
            "flex": null,
            "_model_name": "LayoutModel",
            "justify_items": null,
            "grid_row": null,
            "max_height": null,
            "align_content": null,
            "visibility": null,
            "align_self": null,
            "height": null,
            "min_height": null,
            "padding": null,
            "grid_auto_rows": null,
            "grid_gap": null,
            "max_width": null,
            "order": null,
            "_view_module_version": "1.2.0",
            "grid_template_areas": null,
            "object_position": null,
            "object_fit": null,
            "grid_auto_columns": null,
            "margin": null,
            "display": null,
            "left": null
          }
        },
        "d29c2a57447844b595b83ff5b0368374": {
          "model_module": "@jupyter-widgets/controls",
          "model_name": "FloatProgressModel",
          "state": {
            "_view_name": "ProgressView",
            "style": "IPY_MODEL_00fbd0798326468e82a5ab71c9f6ac81",
            "_dom_classes": [],
            "description": "100%",
            "_model_name": "FloatProgressModel",
            "bar_style": "success",
            "max": 200,
            "_view_module": "@jupyter-widgets/controls",
            "_model_module_version": "1.5.0",
            "value": 200,
            "_view_count": null,
            "_view_module_version": "1.5.0",
            "orientation": "horizontal",
            "min": 0,
            "description_tooltip": null,
            "_model_module": "@jupyter-widgets/controls",
            "layout": "IPY_MODEL_fbb01d1fc88c48f5be3fa157e823b1ed"
          }
        },
        "0346590899944b068b6989133ea83d08": {
          "model_module": "@jupyter-widgets/controls",
          "model_name": "HTMLModel",
          "state": {
            "_view_name": "HTMLView",
            "style": "IPY_MODEL_c20160a730334032933065d23fbb07fc",
            "_dom_classes": [],
            "description": "",
            "_model_name": "HTMLModel",
            "placeholder": "​",
            "_view_module": "@jupyter-widgets/controls",
            "_model_module_version": "1.5.0",
            "value": " 200/200 [03:02&lt;00:00,  1.09it/s]",
            "_view_count": null,
            "_view_module_version": "1.5.0",
            "description_tooltip": null,
            "_model_module": "@jupyter-widgets/controls",
            "layout": "IPY_MODEL_f33624f664214e5d96c819b2f4c9f95e"
          }
        },
        "00fbd0798326468e82a5ab71c9f6ac81": {
          "model_module": "@jupyter-widgets/controls",
          "model_name": "ProgressStyleModel",
          "state": {
            "_view_name": "StyleView",
            "_model_name": "ProgressStyleModel",
            "description_width": "initial",
            "_view_module": "@jupyter-widgets/base",
            "_model_module_version": "1.5.0",
            "_view_count": null,
            "_view_module_version": "1.2.0",
            "bar_color": null,
            "_model_module": "@jupyter-widgets/controls"
          }
        },
        "fbb01d1fc88c48f5be3fa157e823b1ed": {
          "model_module": "@jupyter-widgets/base",
          "model_name": "LayoutModel",
          "state": {
            "_view_name": "LayoutView",
            "grid_template_rows": null,
            "right": null,
            "justify_content": null,
            "_view_module": "@jupyter-widgets/base",
            "overflow": null,
            "_model_module_version": "1.2.0",
            "_view_count": null,
            "flex_flow": null,
            "width": null,
            "min_width": null,
            "border": null,
            "align_items": null,
            "bottom": null,
            "_model_module": "@jupyter-widgets/base",
            "top": null,
            "grid_column": null,
            "overflow_y": null,
            "overflow_x": null,
            "grid_auto_flow": null,
            "grid_area": null,
            "grid_template_columns": null,
            "flex": null,
            "_model_name": "LayoutModel",
            "justify_items": null,
            "grid_row": null,
            "max_height": null,
            "align_content": null,
            "visibility": null,
            "align_self": null,
            "height": null,
            "min_height": null,
            "padding": null,
            "grid_auto_rows": null,
            "grid_gap": null,
            "max_width": null,
            "order": null,
            "_view_module_version": "1.2.0",
            "grid_template_areas": null,
            "object_position": null,
            "object_fit": null,
            "grid_auto_columns": null,
            "margin": null,
            "display": null,
            "left": null
          }
        },
        "c20160a730334032933065d23fbb07fc": {
          "model_module": "@jupyter-widgets/controls",
          "model_name": "DescriptionStyleModel",
          "state": {
            "_view_name": "StyleView",
            "_model_name": "DescriptionStyleModel",
            "description_width": "",
            "_view_module": "@jupyter-widgets/base",
            "_model_module_version": "1.5.0",
            "_view_count": null,
            "_view_module_version": "1.2.0",
            "_model_module": "@jupyter-widgets/controls"
          }
        },
        "f33624f664214e5d96c819b2f4c9f95e": {
          "model_module": "@jupyter-widgets/base",
          "model_name": "LayoutModel",
          "state": {
            "_view_name": "LayoutView",
            "grid_template_rows": null,
            "right": null,
            "justify_content": null,
            "_view_module": "@jupyter-widgets/base",
            "overflow": null,
            "_model_module_version": "1.2.0",
            "_view_count": null,
            "flex_flow": null,
            "width": null,
            "min_width": null,
            "border": null,
            "align_items": null,
            "bottom": null,
            "_model_module": "@jupyter-widgets/base",
            "top": null,
            "grid_column": null,
            "overflow_y": null,
            "overflow_x": null,
            "grid_auto_flow": null,
            "grid_area": null,
            "grid_template_columns": null,
            "flex": null,
            "_model_name": "LayoutModel",
            "justify_items": null,
            "grid_row": null,
            "max_height": null,
            "align_content": null,
            "visibility": null,
            "align_self": null,
            "height": null,
            "min_height": null,
            "padding": null,
            "grid_auto_rows": null,
            "grid_gap": null,
            "max_width": null,
            "order": null,
            "_view_module_version": "1.2.0",
            "grid_template_areas": null,
            "object_position": null,
            "object_fit": null,
            "grid_auto_columns": null,
            "margin": null,
            "display": null,
            "left": null
          }
        }
      }
    }
  },
  "cells": [
    {
      "cell_type": "code",
      "metadata": {
        "id": "0AweSRnwAF8z",
        "outputId": "d23e0310-81fe-477c-9482-ce656a373645",
        "colab": {
          "base_uri": "https://localhost:8080/",
          "height": 34
        }
      },
      "source": [
        "!git clone https://github.com/rishabh-bhardwaj-64rr/EVA5.git"
      ],
      "execution_count": null,
      "outputs": [
        {
          "output_type": "stream",
          "text": [
            "fatal: destination path 'EVA5' already exists and is not an empty directory.\n"
          ],
          "name": "stdout"
        }
      ]
    },
    {
      "cell_type": "code",
      "metadata": {
        "id": "weFeXnB8LTQ7",
        "outputId": "a02276d7-97c5-436d-be62-a325008695db",
        "colab": {
          "base_uri": "https://localhost:8080/",
          "height": 35
        }
      },
      "source": [
        "pwd"
      ],
      "execution_count": null,
      "outputs": [
        {
          "output_type": "execute_result",
          "data": {
            "application/vnd.google.colaboratory.intrinsic+json": {
              "type": "string"
            },
            "text/plain": [
              "'/content'"
            ]
          },
          "metadata": {
            "tags": []
          },
          "execution_count": 2
        }
      ]
    },
    {
      "cell_type": "code",
      "metadata": {
        "id": "1ehC5aC-AQTu",
        "outputId": "baf6254b-1f7b-4c35-fe19-7de668453455",
        "colab": {
          "base_uri": "https://localhost:8080/",
          "height": 34
        }
      },
      "source": [
        "cd EVA5/S12/"
      ],
      "execution_count": null,
      "outputs": [
        {
          "output_type": "stream",
          "text": [
            "/content/EVA5/S12\n"
          ],
          "name": "stdout"
        }
      ]
    },
    {
      "cell_type": "code",
      "metadata": {
        "id": "a-vdzu72LH0W",
        "outputId": "68a73679-e1a0-49d0-8bdf-d361ecf04f82",
        "colab": {
          "base_uri": "https://localhost:8080/",
          "height": 34
        }
      },
      "source": [
        "!git pull"
      ],
      "execution_count": null,
      "outputs": [
        {
          "output_type": "stream",
          "text": [
            "Already up to date.\n"
          ],
          "name": "stdout"
        }
      ]
    },
    {
      "cell_type": "code",
      "metadata": {
        "id": "NNrsDRSKAVVU"
      },
      "source": [
        "from __future__ import print_function\n",
        "\n",
        "import matplotlib.pyplot as plt\n",
        "\n",
        "import numpy as np\n",
        "\n",
        "import torch\n",
        "import torch.nn as nn\n",
        "import torch.nn.functional as F\n",
        "import torch.optim as optim\n",
        "from torch.optim.lr_scheduler import OneCycleLR\n",
        "from torchvision import datasets, transforms\n",
        "from torchsummary import summary\n",
        "\n",
        "from tqdm import tqdm\n",
        "\n",
        "import albumentations as A\n",
        "import albumentations.pytorch.transforms as APT"
      ],
      "execution_count": null,
      "outputs": []
    },
    {
      "cell_type": "code",
      "metadata": {
        "id": "OT5nsl0KAXiy"
      },
      "source": [
        "from data_loading import transform, dataset, dataloader, util\n",
        "from data_loading.dataloader import TinyImageNetDataLoader\n",
        "from models import resnet\n",
        "from utils import plot_metrics, misclassifications, classwise_accuracy, show_image\n",
        "from essentials.lr_finder import LRFinder\n",
        "import trainer, tester, run_model\n",
        "from gradcam import run_grad_cam"
      ],
      "execution_count": null,
      "outputs": []
    },
    {
      "cell_type": "code",
      "metadata": {
        "id": "vf4IDg-YA-XI",
        "outputId": "6f2f513a-2799-4bb3-898f-43ff4adfd746",
        "colab": {
          "base_uri": "https://localhost:8080/",
          "height": 34
        }
      },
      "source": [
        "!nvidia-smi -L"
      ],
      "execution_count": null,
      "outputs": [
        {
          "output_type": "stream",
          "text": [
            "GPU 0: Tesla P100-PCIE-16GB (UUID: GPU-dc486c0b-0b37-7d6c-2ee1-4651965ead1d)\n"
          ],
          "name": "stdout"
        }
      ]
    },
    {
      "cell_type": "code",
      "metadata": {
        "id": "upm3lesBDbTn"
      },
      "source": [
        "mean = (0.485, 0.456, 0.406)\n",
        "std = (0.229, 0.224, 0.225)\n",
        "data_dir = '/content/EVA5/S12/data/'"
      ],
      "execution_count": null,
      "outputs": []
    },
    {
      "cell_type": "code",
      "metadata": {
        "id": "chknfuEhDiVI",
        "outputId": "4dcb220f-6633-4e4c-c611-d5b895be25be",
        "colab": {
          "base_uri": "https://localhost:8080/",
          "height": 51
        }
      },
      "source": [
        "train_transforms, test_transforms = transform.tinyimagenet_albumentations(mean, std)\n",
        "# trainset, testset = TinyImageNet(train_transforms, test_transforms)\n",
        "tin = TinyImageNetDataLoader(train_transforms=train_transforms, test_transforms=test_transforms,\n",
        "                                data_dir = data_dir, batch_size=512, shuffle=True, num_workers=8, pin_memory=True)\n",
        "train_loader, test_loader = tin.get_loaders()\n",
        "# ToTensorV2()"
      ],
      "execution_count": null,
      "outputs": [
        {
          "output_type": "stream",
          "text": [
            "Downloading dataset...\n",
            "Done.\n"
          ],
          "name": "stdout"
        }
      ]
    },
    {
      "cell_type": "code",
      "metadata": {
        "id": "VVSBE3x_DvJr",
        "outputId": "0f583790-7540-47f7-80df-b9ee4b7c56d0",
        "colab": {
          "base_uri": "https://localhost:8080/",
          "height": 34
        }
      },
      "source": [
        "# device\n",
        "use_cuda = torch.cuda.is_available()\n",
        "device = torch.device(\"cuda\" if use_cuda else \"cpu\")\n",
        "print(device)"
      ],
      "execution_count": null,
      "outputs": [
        {
          "output_type": "stream",
          "text": [
            "cuda\n"
          ],
          "name": "stdout"
        }
      ]
    },
    {
      "cell_type": "code",
      "metadata": {
        "id": "0j2ix3UFDveW",
        "outputId": "98b67e88-228a-41e9-dbbf-313a63beb868",
        "colab": {
          "base_uri": "https://localhost:8080/",
          "height": 1000
        }
      },
      "source": [
        "# model summary\n",
        "net = resnet.ResNet18_TinyImageNet().to(device)\n",
        "print(summary(net, input_size=(3, 64, 64)))"
      ],
      "execution_count": null,
      "outputs": [
        {
          "output_type": "stream",
          "text": [
            "----------------------------------------------------------------\n",
            "        Layer (type)               Output Shape         Param #\n",
            "================================================================\n",
            "            Conv2d-1           [-1, 64, 64, 64]           1,728\n",
            "       BatchNorm2d-2           [-1, 64, 64, 64]             128\n",
            "            Conv2d-3           [-1, 64, 64, 64]          36,864\n",
            "       BatchNorm2d-4           [-1, 64, 64, 64]             128\n",
            "            Conv2d-5           [-1, 64, 64, 64]          36,864\n",
            "       BatchNorm2d-6           [-1, 64, 64, 64]             128\n",
            "        BasicBlock-7           [-1, 64, 64, 64]               0\n",
            "            Conv2d-8           [-1, 64, 64, 64]          36,864\n",
            "       BatchNorm2d-9           [-1, 64, 64, 64]             128\n",
            "           Conv2d-10           [-1, 64, 64, 64]          36,864\n",
            "      BatchNorm2d-11           [-1, 64, 64, 64]             128\n",
            "       BasicBlock-12           [-1, 64, 64, 64]               0\n",
            "           Conv2d-13          [-1, 128, 32, 32]          73,728\n",
            "      BatchNorm2d-14          [-1, 128, 32, 32]             256\n",
            "           Conv2d-15          [-1, 128, 32, 32]         147,456\n",
            "      BatchNorm2d-16          [-1, 128, 32, 32]             256\n",
            "           Conv2d-17          [-1, 128, 32, 32]           8,192\n",
            "      BatchNorm2d-18          [-1, 128, 32, 32]             256\n",
            "       BasicBlock-19          [-1, 128, 32, 32]               0\n",
            "           Conv2d-20          [-1, 128, 32, 32]         147,456\n",
            "      BatchNorm2d-21          [-1, 128, 32, 32]             256\n",
            "           Conv2d-22          [-1, 128, 32, 32]         147,456\n",
            "      BatchNorm2d-23          [-1, 128, 32, 32]             256\n",
            "       BasicBlock-24          [-1, 128, 32, 32]               0\n",
            "           Conv2d-25          [-1, 256, 16, 16]         294,912\n",
            "      BatchNorm2d-26          [-1, 256, 16, 16]             512\n",
            "           Conv2d-27          [-1, 256, 16, 16]         589,824\n",
            "      BatchNorm2d-28          [-1, 256, 16, 16]             512\n",
            "           Conv2d-29          [-1, 256, 16, 16]          32,768\n",
            "      BatchNorm2d-30          [-1, 256, 16, 16]             512\n",
            "       BasicBlock-31          [-1, 256, 16, 16]               0\n",
            "           Conv2d-32          [-1, 256, 16, 16]         589,824\n",
            "      BatchNorm2d-33          [-1, 256, 16, 16]             512\n",
            "           Conv2d-34          [-1, 256, 16, 16]         589,824\n",
            "      BatchNorm2d-35          [-1, 256, 16, 16]             512\n",
            "       BasicBlock-36          [-1, 256, 16, 16]               0\n",
            "           Conv2d-37            [-1, 512, 8, 8]       1,179,648\n",
            "      BatchNorm2d-38            [-1, 512, 8, 8]           1,024\n",
            "           Conv2d-39            [-1, 512, 8, 8]       2,359,296\n",
            "      BatchNorm2d-40            [-1, 512, 8, 8]           1,024\n",
            "           Conv2d-41            [-1, 512, 8, 8]         131,072\n",
            "      BatchNorm2d-42            [-1, 512, 8, 8]           1,024\n",
            "       BasicBlock-43            [-1, 512, 8, 8]               0\n",
            "           Conv2d-44            [-1, 512, 8, 8]       2,359,296\n",
            "      BatchNorm2d-45            [-1, 512, 8, 8]           1,024\n",
            "           Conv2d-46            [-1, 512, 8, 8]       2,359,296\n",
            "      BatchNorm2d-47            [-1, 512, 8, 8]           1,024\n",
            "       BasicBlock-48            [-1, 512, 8, 8]               0\n",
            "           Linear-49                  [-1, 200]         102,600\n",
            "================================================================\n",
            "Total params: 11,271,432\n",
            "Trainable params: 11,271,432\n",
            "Non-trainable params: 0\n",
            "----------------------------------------------------------------\n",
            "Input size (MB): 0.05\n",
            "Forward/backward pass size (MB): 45.00\n",
            "Params size (MB): 43.00\n",
            "Estimated Total Size (MB): 88.05\n",
            "----------------------------------------------------------------\n",
            "None\n"
          ],
          "name": "stdout"
        }
      ]
    },
    {
      "cell_type": "code",
      "metadata": {
        "id": "yQ1xOygMDxIT",
        "outputId": "24a8f2dc-101c-4bc7-d579-5d10134f8cba",
        "colab": {
          "base_uri": "https://localhost:8080/",
          "height": 408,
          "referenced_widgets": [
            "19c8c58dc32843038ed27c6cb2afb053",
            "710701e1ccb64ad499ff740ccd962122",
            "d29c2a57447844b595b83ff5b0368374",
            "0346590899944b068b6989133ea83d08",
            "00fbd0798326468e82a5ab71c9f6ac81",
            "fbb01d1fc88c48f5be3fa157e823b1ed",
            "c20160a730334032933065d23fbb07fc",
            "f33624f664214e5d96c819b2f4c9f95e"
          ]
        }
      },
      "source": [
        "\n",
        "optimizer = optim.SGD(net.parameters(), lr=0.01,  momentum=0.9)\n",
        "criterion = nn.CrossEntropyLoss()\n",
        "\n",
        "lr_finder = LRFinder(net, optimizer, criterion, device=\"cuda\")\n",
        "lr_finder.range_test(train_loader, start_lr=1e-3, end_lr=0.05, num_iter=200, step_mode='linear')\n",
        "\n",
        "lr_finder.plot() # loss vs lr curve\n",
        "\n",
        "best_lr = lr_finder.history['lr'][lr_finder.history['loss'].index(lr_finder.best_loss)]\n",
        "print(best_lr)\n",
        "\n",
        "lr_finder.reset()"
      ],
      "execution_count": null,
      "outputs": [
        {
          "output_type": "display_data",
          "data": {
            "application/vnd.jupyter.widget-view+json": {
              "model_id": "19c8c58dc32843038ed27c6cb2afb053",
              "version_minor": 0,
              "version_major": 2
            },
            "text/plain": [
              "HBox(children=(FloatProgress(value=0.0, max=200.0), HTML(value='')))"
            ]
          },
          "metadata": {
            "tags": []
          }
        },
        {
          "output_type": "stream",
          "text": [
            "\n",
            "Learning rate search finished. See the graph with {finder_name}.plot()\n",
            "LR suggestion: steepest gradient\n",
            "Suggested LR: 2.12E-02\n"
          ],
          "name": "stdout"
        },
        {
          "output_type": "display_data",
          "data": {
            "image/png": "[encoded data removed]",
            "text/plain": [
              "<Figure size 432x288 with 1 Axes>"
            ]
          },
          "metadata": {
            "tags": []
          }
        },
        {
          "output_type": "stream",
          "text": [
            "0.05\n"
          ],
          "name": "stdout"
        }
      ]
    },
    {
      "cell_type": "code",
      "metadata": {
        "id": "_F3wZJ9BD4Xz",
        "outputId": "200cd76a-2c25-49d7-9541-c78081ad72af",
        "colab": {
          "base_uri": "https://localhost:8080/",
          "height": 1000
        }
      },
      "source": [
        "\n",
        "EPOCHS = 50\n",
        "max_lr_epoch = 6\n",
        "optimizer = optim.SGD(net.parameters(), lr = 0.01, momentum = 0.9)\n",
        "pct_start = max_lr_epoch/EPOCHS\n",
        "scheduler = OneCycleLR(optimizer=optimizer, max_lr=best_lr, epochs=EPOCHS, steps_per_epoch=len(train_loader), pct_start=pct_start,anneal_strategy='cos', div_factor=10, final_div_factor=1)\n",
        "\n",
        "train_acc = []\n",
        "train_losses = []\n",
        "test_acc = []\n",
        "test_losses = []\n",
        "\n",
        "run_model.evaluation( net, train_loader, test_loader, optimizer, scheduler, EPOCHS, device,\n",
        "                    train_acc, train_losses, test_acc, test_losses)"
      ],
      "execution_count": null,
      "outputs": [
        {
          "output_type": "stream",
          "text": [
            "\r  0%|          | 0/151 [00:00<?, ?it/s]"
          ],
          "name": "stderr"
        },
        {
          "output_type": "stream",
          "text": [
            "\n",
            " Epoch: 1\n"
          ],
          "name": "stdout"
        },
        {
          "output_type": "stream",
          "text": [
            "Loss = 4.276063919067383 Batch_id = 150 Accuracy = 5.10: 100%|██████████| 151/151 [02:15<00:00,  1.11it/s]\n",
            "  0%|          | 0/65 [00:00<?, ?it/s]"
          ],
          "name": "stderr"
        },
        {
          "output_type": "stream",
          "text": [
            "\n",
            "LR from scheduler: [0.008020940500289064]\n"
          ],
          "name": "stdout"
        },
        {
          "output_type": "stream",
          "text": [
            "Loss = 4.630583763122559 Batch_id = 64 Accuracy = 7.17: 100%|██████████| 65/65 [00:20<00:00,  3.18it/s]\n",
            "  0%|          | 0/151 [00:00<?, ?it/s]"
          ],
          "name": "stderr"
        },
        {
          "output_type": "stream",
          "text": [
            "\n",
            "Test set: Average loss: 0.0089, Accuracy: 2367/33000 (7.17%)\n",
            "\n",
            "\n",
            " Epoch: 2\n"
          ],
          "name": "stdout"
        },
        {
          "output_type": "stream",
          "text": [
            "Loss = 3.7586758136749268 Batch_id = 150 Accuracy = 12.02: 100%|██████████| 151/151 [02:15<00:00,  1.11it/s]\n",
            "  0%|          | 0/65 [00:00<?, ?it/s]"
          ],
          "name": "stderr"
        },
        {
          "output_type": "stream",
          "text": [
            "\n",
            "LR from scheduler: [0.01627255475615299]\n"
          ],
          "name": "stdout"
        },
        {
          "output_type": "stream",
          "text": [
            "Loss = 3.976158380508423 Batch_id = 64 Accuracy = 13.89: 100%|██████████| 65/65 [00:20<00:00,  3.20it/s]\n",
            "  0%|          | 0/151 [00:00<?, ?it/s]"
          ],
          "name": "stderr"
        },
        {
          "output_type": "stream",
          "text": [
            "\n",
            "Test set: Average loss: 0.0078, Accuracy: 4584/33000 (13.89%)\n",
            "\n",
            "\n",
            " Epoch: 3\n"
          ],
          "name": "stdout"
        },
        {
          "output_type": "stream",
          "text": [
            "Loss = 3.6251871585845947 Batch_id = 150 Accuracy = 18.53: 100%|██████████| 151/151 [02:15<00:00,  1.11it/s]\n",
            "  0%|          | 0/65 [00:00<?, ?it/s]"
          ],
          "name": "stderr"
        },
        {
          "output_type": "stream",
          "text": [
            "\n",
            "LR from scheduler: [0.02753905292774272]\n"
          ],
          "name": "stdout"
        },
        {
          "output_type": "stream",
          "text": [
            "Loss = 3.415955066680908 Batch_id = 64 Accuracy = 18.16: 100%|██████████| 65/65 [00:20<00:00,  3.20it/s]\n",
            "  0%|          | 0/151 [00:00<?, ?it/s]"
          ],
          "name": "stderr"
        },
        {
          "output_type": "stream",
          "text": [
            "\n",
            "Test set: Average loss: 0.0072, Accuracy: 5993/33000 (18.16%)\n",
            "\n",
            "\n",
            " Epoch: 4\n"
          ],
          "name": "stdout"
        },
        {
          "output_type": "stream",
          "text": [
            "Loss = 3.0884039402008057 Batch_id = 150 Accuracy = 23.80: 100%|██████████| 151/151 [02:15<00:00,  1.11it/s]\n",
            "  0%|          | 0/65 [00:00<?, ?it/s]"
          ],
          "name": "stderr"
        },
        {
          "output_type": "stream",
          "text": [
            "\n",
            "LR from scheduler: [0.038795064293014866]\n"
          ],
          "name": "stdout"
        },
        {
          "output_type": "stream",
          "text": [
            "Loss = 3.7105464935302734 Batch_id = 64 Accuracy = 19.32: 100%|██████████| 65/65 [00:20<00:00,  3.23it/s]\n",
            "  0%|          | 0/151 [00:00<?, ?it/s]"
          ],
          "name": "stderr"
        },
        {
          "output_type": "stream",
          "text": [
            "\n",
            "Test set: Average loss: 0.0075, Accuracy: 6375/33000 (19.32%)\n",
            "\n",
            "\n",
            " Epoch: 5\n"
          ],
          "name": "stdout"
        },
        {
          "output_type": "stream",
          "text": [
            "Loss = 2.994288921356201 Batch_id = 150 Accuracy = 28.45: 100%|██████████| 151/151 [02:15<00:00,  1.11it/s]\n",
            "  0%|          | 0/65 [00:00<?, ?it/s]"
          ],
          "name": "stderr"
        },
        {
          "output_type": "stream",
          "text": [
            "\n",
            "LR from scheduler: [0.047018034131519226]\n"
          ],
          "name": "stdout"
        },
        {
          "output_type": "stream",
          "text": [
            "Loss = 3.451380729675293 Batch_id = 64 Accuracy = 25.87: 100%|██████████| 65/65 [00:20<00:00,  3.17it/s]\n",
            "  0%|          | 0/151 [00:00<?, ?it/s]"
          ],
          "name": "stderr"
        },
        {
          "output_type": "stream",
          "text": [
            "\n",
            "Test set: Average loss: 0.0064, Accuracy: 8538/33000 (25.87%)\n",
            "\n",
            "\n",
            " Epoch: 6\n"
          ],
          "name": "stdout"
        },
        {
          "output_type": "stream",
          "text": [
            "Loss = 2.8866775035858154 Batch_id = 150 Accuracy = 32.61: 100%|██████████| 151/151 [02:15<00:00,  1.11it/s]\n",
            "  0%|          | 0/65 [00:00<?, ?it/s]"
          ],
          "name": "stderr"
        },
        {
          "output_type": "stream",
          "text": [
            "\n",
            "LR from scheduler: [0.04999999748468134]\n"
          ],
          "name": "stdout"
        },
        {
          "output_type": "stream",
          "text": [
            "Loss = 2.9552435874938965 Batch_id = 64 Accuracy = 29.26: 100%|██████████| 65/65 [00:20<00:00,  3.22it/s]\n",
            "  0%|          | 0/151 [00:00<?, ?it/s]"
          ],
          "name": "stderr"
        },
        {
          "output_type": "stream",
          "text": [
            "\n",
            "Test set: Average loss: 0.0061, Accuracy: 9656/33000 (29.26%)\n",
            "\n",
            "\n",
            " Epoch: 7\n"
          ],
          "name": "stdout"
        },
        {
          "output_type": "stream",
          "text": [
            "Loss = 2.8679800033569336 Batch_id = 150 Accuracy = 35.87: 100%|██████████| 151/151 [02:15<00:00,  1.11it/s]\n",
            "  0%|          | 0/65 [00:00<?, ?it/s]"
          ],
          "name": "stderr"
        },
        {
          "output_type": "stream",
          "text": [
            "\n",
            "LR from scheduler: [0.049941911088856955]\n"
          ],
          "name": "stdout"
        },
        {
          "output_type": "stream",
          "text": [
            "Loss = 3.12705397605896 Batch_id = 64 Accuracy = 30.55: 100%|██████████| 65/65 [00:20<00:00,  3.22it/s]\n",
            "  0%|          | 0/151 [00:00<?, ?it/s]"
          ],
          "name": "stderr"
        },
        {
          "output_type": "stream",
          "text": [
            "\n",
            "Test set: Average loss: 0.0059, Accuracy: 10081/33000 (30.55%)\n",
            "\n",
            "\n",
            " Epoch: 8\n"
          ],
          "name": "stdout"
        },
        {
          "output_type": "stream",
          "text": [
            "Loss = 2.4980409145355225 Batch_id = 150 Accuracy = 39.28: 100%|██████████| 151/151 [02:15<00:00,  1.12it/s]\n",
            "  0%|          | 0/65 [00:00<?, ?it/s]"
          ],
          "name": "stderr"
        },
        {
          "output_type": "stream",
          "text": [
            "\n",
            "LR from scheduler: [0.04976946585826999]\n"
          ],
          "name": "stdout"
        },
        {
          "output_type": "stream",
          "text": [
            "Loss = 2.918754816055298 Batch_id = 64 Accuracy = 31.63: 100%|██████████| 65/65 [00:20<00:00,  3.22it/s]\n",
            "  0%|          | 0/151 [00:00<?, ?it/s]"
          ],
          "name": "stderr"
        },
        {
          "output_type": "stream",
          "text": [
            "\n",
            "Test set: Average loss: 0.0059, Accuracy: 10438/33000 (31.63%)\n",
            "\n",
            "\n",
            " Epoch: 9\n"
          ],
          "name": "stdout"
        },
        {
          "output_type": "stream",
          "text": [
            "Loss = 2.5837738513946533 Batch_id = 150 Accuracy = 41.54: 100%|██████████| 151/151 [02:15<00:00,  1.11it/s]\n",
            "  0%|          | 0/65 [00:00<?, ?it/s]"
          ],
          "name": "stderr"
        },
        {
          "output_type": "stream",
          "text": [
            "\n",
            "LR from scheduler: [0.04948354053428753]\n"
          ],
          "name": "stdout"
        },
        {
          "output_type": "stream",
          "text": [
            "Loss = 3.127070426940918 Batch_id = 64 Accuracy = 31.81: 100%|██████████| 65/65 [00:20<00:00,  3.20it/s]\n",
            "  0%|          | 0/151 [00:00<?, ?it/s]"
          ],
          "name": "stderr"
        },
        {
          "output_type": "stream",
          "text": [
            "\n",
            "Test set: Average loss: 0.0059, Accuracy: 10496/33000 (31.81%)\n",
            "\n",
            "\n",
            " Epoch: 10\n"
          ],
          "name": "stdout"
        },
        {
          "output_type": "stream",
          "text": [
            "Loss = 2.335373640060425 Batch_id = 150 Accuracy = 44.33: 100%|██████████| 151/151 [02:15<00:00,  1.11it/s]\n",
            "  0%|          | 0/65 [00:00<?, ?it/s]"
          ],
          "name": "stderr"
        },
        {
          "output_type": "stream",
          "text": [
            "\n",
            "LR from scheduler: [0.04908559212682066]\n"
          ],
          "name": "stdout"
        },
        {
          "output_type": "stream",
          "text": [
            "Loss = 2.865628719329834 Batch_id = 64 Accuracy = 36.37: 100%|██████████| 65/65 [00:20<00:00,  3.21it/s]\n",
            "  0%|          | 0/151 [00:00<?, ?it/s]"
          ],
          "name": "stderr"
        },
        {
          "output_type": "stream",
          "text": [
            "\n",
            "Test set: Average loss: 0.0054, Accuracy: 12001/33000 (36.37%)\n",
            "\n",
            "\n",
            " Epoch: 11\n"
          ],
          "name": "stdout"
        },
        {
          "output_type": "stream",
          "text": [
            "Loss = 2.355430841445923 Batch_id = 150 Accuracy = 46.26: 100%|██████████| 151/151 [02:15<00:00,  1.11it/s]\n",
            "  0%|          | 0/65 [00:00<?, ?it/s]"
          ],
          "name": "stderr"
        },
        {
          "output_type": "stream",
          "text": [
            "\n",
            "LR from scheduler: [0.04857764848973587]\n"
          ],
          "name": "stdout"
        },
        {
          "output_type": "stream",
          "text": [
            "Loss = 2.5776753425598145 Batch_id = 64 Accuracy = 36.66: 100%|██████████| 65/65 [00:20<00:00,  3.21it/s]\n",
            "  0%|          | 0/151 [00:00<?, ?it/s]"
          ],
          "name": "stderr"
        },
        {
          "output_type": "stream",
          "text": [
            "\n",
            "Test set: Average loss: 0.0054, Accuracy: 12097/33000 (36.66%)\n",
            "\n",
            "\n",
            " Epoch: 12\n"
          ],
          "name": "stdout"
        },
        {
          "output_type": "stream",
          "text": [
            "Loss = 2.031308174133301 Batch_id = 150 Accuracy = 48.44: 100%|██████████| 151/151 [02:15<00:00,  1.11it/s]\n",
            "  0%|          | 0/65 [00:00<?, ?it/s]"
          ],
          "name": "stderr"
        },
        {
          "output_type": "stream",
          "text": [
            "\n",
            "LR from scheduler: [0.047962297987376674]\n"
          ],
          "name": "stdout"
        },
        {
          "output_type": "stream",
          "text": [
            "Loss = 2.3712775707244873 Batch_id = 64 Accuracy = 42.65: 100%|██████████| 65/65 [00:20<00:00,  3.21it/s]\n",
            "  0%|          | 0/151 [00:00<?, ?it/s]"
          ],
          "name": "stderr"
        },
        {
          "output_type": "stream",
          "text": [
            "\n",
            "Test set: Average loss: 0.0047, Accuracy: 14076/33000 (42.65%)\n",
            "\n",
            "\n",
            " Epoch: 13\n"
          ],
          "name": "stdout"
        },
        {
          "output_type": "stream",
          "text": [
            "Loss = 1.8647816181182861 Batch_id = 150 Accuracy = 50.10: 100%|██████████| 151/151 [02:15<00:00,  1.11it/s]\n",
            "  0%|          | 0/65 [00:00<?, ?it/s]"
          ],
          "name": "stderr"
        },
        {
          "output_type": "stream",
          "text": [
            "\n",
            "LR from scheduler: [0.04724267630485213]\n"
          ],
          "name": "stdout"
        },
        {
          "output_type": "stream",
          "text": [
            "Loss = 2.67572283744812 Batch_id = 64 Accuracy = 40.39: 100%|██████████| 65/65 [00:20<00:00,  3.23it/s]\n",
            "  0%|          | 0/151 [00:00<?, ?it/s]"
          ],
          "name": "stderr"
        },
        {
          "output_type": "stream",
          "text": [
            "\n",
            "Test set: Average loss: 0.0050, Accuracy: 13329/33000 (40.39%)\n",
            "\n",
            "\n",
            " Epoch: 14\n"
          ],
          "name": "stdout"
        },
        {
          "output_type": "stream",
          "text": [
            "Loss = 2.211920976638794 Batch_id = 150 Accuracy = 51.97: 100%|██████████| 151/151 [02:15<00:00,  1.11it/s]\n",
            "  0%|          | 0/65 [00:00<?, ?it/s]"
          ],
          "name": "stderr"
        },
        {
          "output_type": "stream",
          "text": [
            "\n",
            "LR from scheduler: [0.04642245046930432]\n"
          ],
          "name": "stdout"
        },
        {
          "output_type": "stream",
          "text": [
            "Loss = 2.287515878677368 Batch_id = 64 Accuracy = 41.11: 100%|██████████| 65/65 [00:20<00:00,  3.20it/s]\n",
            "  0%|          | 0/151 [00:00<?, ?it/s]"
          ],
          "name": "stderr"
        },
        {
          "output_type": "stream",
          "text": [
            "\n",
            "Test set: Average loss: 0.0050, Accuracy: 13565/33000 (41.11%)\n",
            "\n",
            "\n",
            " Epoch: 15\n"
          ],
          "name": "stdout"
        },
        {
          "output_type": "stream",
          "text": [
            "Loss = 1.8758586645126343 Batch_id = 150 Accuracy = 54.24: 100%|██████████| 151/151 [02:15<00:00,  1.11it/s]\n",
            "  0%|          | 0/65 [00:00<?, ?it/s]"
          ],
          "name": "stderr"
        },
        {
          "output_type": "stream",
          "text": [
            "\n",
            "LR from scheduler: [0.045505800163578636]\n"
          ],
          "name": "stdout"
        },
        {
          "output_type": "stream",
          "text": [
            "Loss = 2.2514290809631348 Batch_id = 64 Accuracy = 44.22: 100%|██████████| 65/65 [00:20<00:00,  3.21it/s]\n",
            "  0%|          | 0/151 [00:00<?, ?it/s]"
          ],
          "name": "stderr"
        },
        {
          "output_type": "stream",
          "text": [
            "\n",
            "Test set: Average loss: 0.0047, Accuracy: 14593/33000 (44.22%)\n",
            "\n",
            "\n",
            " Epoch: 16\n"
          ],
          "name": "stdout"
        },
        {
          "output_type": "stream",
          "text": [
            "Loss = 1.7702637910842896 Batch_id = 150 Accuracy = 55.53: 100%|██████████| 151/151 [02:15<00:00,  1.11it/s]\n",
            "  0%|          | 0/65 [00:00<?, ?it/s]"
          ],
          "name": "stderr"
        },
        {
          "output_type": "stream",
          "text": [
            "\n",
            "LR from scheduler: [0.044497396427517995]\n"
          ],
          "name": "stdout"
        },
        {
          "output_type": "stream",
          "text": [
            "Loss = 2.514566659927368 Batch_id = 64 Accuracy = 45.17: 100%|██████████| 65/65 [00:20<00:00,  3.20it/s]\n",
            "  0%|          | 0/151 [00:00<?, ?it/s]"
          ],
          "name": "stderr"
        },
        {
          "output_type": "stream",
          "text": [
            "\n",
            "Test set: Average loss: 0.0046, Accuracy: 14907/33000 (45.17%)\n",
            "\n",
            "\n",
            " Epoch: 17\n"
          ],
          "name": "stdout"
        },
        {
          "output_type": "stream",
          "text": [
            "Loss = 1.6999386548995972 Batch_id = 150 Accuracy = 57.18: 100%|██████████| 151/151 [02:15<00:00,  1.12it/s]\n",
            "  0%|          | 0/65 [00:00<?, ?it/s]"
          ],
          "name": "stderr"
        },
        {
          "output_type": "stream",
          "text": [
            "\n",
            "LR from scheduler: [0.04340237785541456]\n"
          ],
          "name": "stdout"
        },
        {
          "output_type": "stream",
          "text": [
            "Loss = 2.364621639251709 Batch_id = 64 Accuracy = 45.50: 100%|██████████| 65/65 [00:20<00:00,  3.23it/s]\n",
            "  0%|          | 0/151 [00:00<?, ?it/s]"
          ],
          "name": "stderr"
        },
        {
          "output_type": "stream",
          "text": [
            "\n",
            "Test set: Average loss: 0.0046, Accuracy: 15015/33000 (45.50%)\n",
            "\n",
            "\n",
            " Epoch: 18\n"
          ],
          "name": "stdout"
        },
        {
          "output_type": "stream",
          "text": [
            "Loss = 1.615010380744934 Batch_id = 150 Accuracy = 58.78: 100%|██████████| 151/151 [02:15<00:00,  1.11it/s]\n",
            "  0%|          | 0/65 [00:00<?, ?it/s]"
          ],
          "name": "stderr"
        },
        {
          "output_type": "stream",
          "text": [
            "\n",
            "LR from scheduler: [0.04222632441091104]\n"
          ],
          "name": "stdout"
        },
        {
          "output_type": "stream",
          "text": [
            "Loss = 2.437878370285034 Batch_id = 64 Accuracy = 43.11: 100%|██████████| 65/65 [00:20<00:00,  3.22it/s]\n",
            "  0%|          | 0/151 [00:00<?, ?it/s]"
          ],
          "name": "stderr"
        },
        {
          "output_type": "stream",
          "text": [
            "\n",
            "Test set: Average loss: 0.0050, Accuracy: 14226/33000 (43.11%)\n",
            "\n",
            "\n",
            " Epoch: 19\n"
          ],
          "name": "stdout"
        },
        {
          "output_type": "stream",
          "text": [
            "Loss = 1.4200609922409058 Batch_id = 150 Accuracy = 60.46: 100%|██████████| 151/151 [02:15<00:00,  1.11it/s]\n",
            "  0%|          | 0/65 [00:00<?, ?it/s]"
          ],
          "name": "stderr"
        },
        {
          "output_type": "stream",
          "text": [
            "\n",
            "LR from scheduler: [0.040975228992785065]\n"
          ],
          "name": "stdout"
        },
        {
          "output_type": "stream",
          "text": [
            "Loss = 2.0836634635925293 Batch_id = 64 Accuracy = 46.97: 100%|██████████| 65/65 [00:20<00:00,  3.19it/s]\n",
            "  0%|          | 0/151 [00:00<?, ?it/s]"
          ],
          "name": "stderr"
        },
        {
          "output_type": "stream",
          "text": [
            "\n",
            "Test set: Average loss: 0.0044, Accuracy: 15501/33000 (46.97%)\n",
            "\n",
            "\n",
            " Epoch: 20\n"
          ],
          "name": "stdout"
        },
        {
          "output_type": "stream",
          "text": [
            "Loss = 1.419561743736267 Batch_id = 150 Accuracy = 61.48: 100%|██████████| 151/151 [02:15<00:00,  1.11it/s]\n",
            "  0%|          | 0/65 [00:00<?, ?it/s]"
          ],
          "name": "stderr"
        },
        {
          "output_type": "stream",
          "text": [
            "\n",
            "LR from scheduler: [0.039655466896510685]\n"
          ],
          "name": "stdout"
        },
        {
          "output_type": "stream",
          "text": [
            "Loss = 2.347191572189331 Batch_id = 64 Accuracy = 48.34: 100%|██████████| 65/65 [00:20<00:00,  3.21it/s]\n",
            "  0%|          | 0/151 [00:00<?, ?it/s]"
          ],
          "name": "stderr"
        },
        {
          "output_type": "stream",
          "text": [
            "\n",
            "Test set: Average loss: 0.0044, Accuracy: 15951/33000 (48.34%)\n",
            "\n",
            "\n",
            " Epoch: 21\n"
          ],
          "name": "stdout"
        },
        {
          "output_type": "stream",
          "text": [
            "Loss = 1.2152212858200073 Batch_id = 150 Accuracy = 63.22: 100%|██████████| 151/151 [02:15<00:00,  1.11it/s]\n",
            "  0%|          | 0/65 [00:00<?, ?it/s]"
          ],
          "name": "stderr"
        },
        {
          "output_type": "stream",
          "text": [
            "\n",
            "LR from scheduler: [0.038273763327213974]\n"
          ],
          "name": "stdout"
        },
        {
          "output_type": "stream",
          "text": [
            "Loss = 2.421719551086426 Batch_id = 64 Accuracy = 47.05: 100%|██████████| 65/65 [00:20<00:00,  3.21it/s]\n",
            "  0%|          | 0/151 [00:00<?, ?it/s]"
          ],
          "name": "stderr"
        },
        {
          "output_type": "stream",
          "text": [
            "\n",
            "Test set: Average loss: 0.0046, Accuracy: 15528/33000 (47.05%)\n",
            "\n",
            "\n",
            " Epoch: 22\n"
          ],
          "name": "stdout"
        },
        {
          "output_type": "stream",
          "text": [
            "Loss = 1.1268751621246338 Batch_id = 150 Accuracy = 65.01: 100%|██████████| 151/151 [02:15<00:00,  1.11it/s]\n",
            "  0%|          | 0/65 [00:00<?, ?it/s]"
          ],
          "name": "stderr"
        },
        {
          "output_type": "stream",
          "text": [
            "\n",
            "LR from scheduler: [0.036837159129569266]\n"
          ],
          "name": "stdout"
        },
        {
          "output_type": "stream",
          "text": [
            "Loss = 2.254267692565918 Batch_id = 64 Accuracy = 47.64: 100%|██████████| 65/65 [00:20<00:00,  3.21it/s]\n",
            "  0%|          | 0/151 [00:00<?, ?it/s]"
          ],
          "name": "stderr"
        },
        {
          "output_type": "stream",
          "text": [
            "\n",
            "Test set: Average loss: 0.0045, Accuracy: 15722/33000 (47.64%)\n",
            "\n",
            "\n",
            " Epoch: 23\n"
          ],
          "name": "stdout"
        },
        {
          "output_type": "stream",
          "text": [
            "Loss = 1.455772042274475 Batch_id = 150 Accuracy = 66.51: 100%|██████████| 151/151 [02:15<00:00,  1.11it/s]\n",
            "  0%|          | 0/65 [00:00<?, ?it/s]"
          ],
          "name": "stderr"
        },
        {
          "output_type": "stream",
          "text": [
            "\n",
            "LR from scheduler: [0.03535297490926863]\n"
          ],
          "name": "stdout"
        },
        {
          "output_type": "stream",
          "text": [
            "Loss = 2.323340892791748 Batch_id = 64 Accuracy = 47.39: 100%|██████████| 65/65 [00:20<00:00,  3.19it/s]\n",
            "  0%|          | 0/151 [00:00<?, ?it/s]"
          ],
          "name": "stderr"
        },
        {
          "output_type": "stream",
          "text": [
            "\n",
            "Test set: Average loss: 0.0046, Accuracy: 15639/33000 (47.39%)\n",
            "\n",
            "\n",
            " Epoch: 24\n"
          ],
          "name": "stdout"
        },
        {
          "output_type": "stream",
          "text": [
            "Loss = 1.234550952911377 Batch_id = 150 Accuracy = 67.86: 100%|██████████| 151/151 [02:15<00:00,  1.11it/s]\n",
            "  0%|          | 0/65 [00:00<?, ?it/s]"
          ],
          "name": "stderr"
        },
        {
          "output_type": "stream",
          "text": [
            "\n",
            "LR from scheduler: [0.033828773728893244]\n"
          ],
          "name": "stdout"
        },
        {
          "output_type": "stream",
          "text": [
            "Loss = 2.0370311737060547 Batch_id = 64 Accuracy = 48.36: 100%|██████████| 65/65 [00:20<00:00,  3.22it/s]\n",
            "  0%|          | 0/151 [00:00<?, ?it/s]"
          ],
          "name": "stderr"
        },
        {
          "output_type": "stream",
          "text": [
            "\n",
            "Test set: Average loss: 0.0045, Accuracy: 15958/33000 (48.36%)\n",
            "\n",
            "\n",
            " Epoch: 25\n"
          ],
          "name": "stdout"
        },
        {
          "output_type": "stream",
          "text": [
            "Loss = 1.0686010122299194 Batch_id = 150 Accuracy = 69.33: 100%|██████████| 151/151 [02:15<00:00,  1.11it/s]\n",
            "  0%|          | 0/65 [00:00<?, ?it/s]"
          ],
          "name": "stderr"
        },
        {
          "output_type": "stream",
          "text": [
            "\n",
            "LR from scheduler: [0.032272322568280144]\n"
          ],
          "name": "stdout"
        },
        {
          "output_type": "stream",
          "text": [
            "Loss = 2.462245464324951 Batch_id = 64 Accuracy = 49.85: 100%|██████████| 65/65 [00:20<00:00,  3.21it/s]\n",
            "  0%|          | 0/151 [00:00<?, ?it/s]"
          ],
          "name": "stderr"
        },
        {
          "output_type": "stream",
          "text": [
            "\n",
            "Test set: Average loss: 0.0044, Accuracy: 16452/33000 (49.85%)\n",
            "\n",
            "\n",
            " Epoch: 26\n"
          ],
          "name": "stdout"
        },
        {
          "output_type": "stream",
          "text": [
            "Loss = 1.1811541318893433 Batch_id = 150 Accuracy = 70.41: 100%|██████████| 151/151 [02:15<00:00,  1.12it/s]\n",
            "  0%|          | 0/65 [00:00<?, ?it/s]"
          ],
          "name": "stderr"
        },
        {
          "output_type": "stream",
          "text": [
            "\n",
            "LR from scheduler: [0.030691552745773294]\n"
          ],
          "name": "stdout"
        },
        {
          "output_type": "stream",
          "text": [
            "Loss = 2.3444321155548096 Batch_id = 64 Accuracy = 49.49: 100%|██████████| 65/65 [00:20<00:00,  3.21it/s]\n",
            "  0%|          | 0/151 [00:00<?, ?it/s]"
          ],
          "name": "stderr"
        },
        {
          "output_type": "stream",
          "text": [
            "\n",
            "Test set: Average loss: 0.0045, Accuracy: 16332/33000 (49.49%)\n",
            "\n",
            "\n",
            " Epoch: 27\n"
          ],
          "name": "stdout"
        },
        {
          "output_type": "stream",
          "text": [
            "Loss = 1.0971113443374634 Batch_id = 150 Accuracy = 72.21: 100%|██████████| 151/151 [02:15<00:00,  1.12it/s]\n",
            "  0%|          | 0/65 [00:00<?, ?it/s]"
          ],
          "name": "stderr"
        },
        {
          "output_type": "stream",
          "text": [
            "\n",
            "LR from scheduler: [0.02909451950204332]\n"
          ],
          "name": "stdout"
        },
        {
          "output_type": "stream",
          "text": [
            "Loss = 2.0287647247314453 Batch_id = 64 Accuracy = 50.38: 100%|██████████| 65/65 [00:20<00:00,  3.18it/s]\n",
            "  0%|          | 0/151 [00:00<?, ?it/s]"
          ],
          "name": "stderr"
        },
        {
          "output_type": "stream",
          "text": [
            "\n",
            "Test set: Average loss: 0.0044, Accuracy: 16624/33000 (50.38%)\n",
            "\n",
            "\n",
            " Epoch: 28\n"
          ],
          "name": "stdout"
        },
        {
          "output_type": "stream",
          "text": [
            "Loss = 0.967333972454071 Batch_id = 150 Accuracy = 73.98: 100%|██████████| 151/151 [02:15<00:00,  1.11it/s]\n",
            "  0%|          | 0/65 [00:00<?, ?it/s]"
          ],
          "name": "stderr"
        },
        {
          "output_type": "stream",
          "text": [
            "\n",
            "LR from scheduler: [0.027489360952427495]\n"
          ],
          "name": "stdout"
        },
        {
          "output_type": "stream",
          "text": [
            "Loss = 2.490575075149536 Batch_id = 64 Accuracy = 48.56: 100%|██████████| 65/65 [00:20<00:00,  3.19it/s]\n",
            "  0%|          | 0/151 [00:00<?, ?it/s]"
          ],
          "name": "stderr"
        },
        {
          "output_type": "stream",
          "text": [
            "\n",
            "Test set: Average loss: 0.0046, Accuracy: 16025/33000 (48.56%)\n",
            "\n",
            "\n",
            " Epoch: 29\n"
          ],
          "name": "stdout"
        },
        {
          "output_type": "stream",
          "text": [
            "Loss = 1.007665753364563 Batch_id = 150 Accuracy = 75.48: 100%|██████████| 151/151 [02:15<00:00,  1.11it/s]\n",
            "  0%|          | 0/65 [00:00<?, ?it/s]"
          ],
          "name": "stderr"
        },
        {
          "output_type": "stream",
          "text": [
            "\n",
            "LR from scheduler: [0.02588425661695942]\n"
          ],
          "name": "stdout"
        },
        {
          "output_type": "stream",
          "text": [
            "Loss = 2.3705499172210693 Batch_id = 64 Accuracy = 50.89: 100%|██████████| 65/65 [00:20<00:00,  3.21it/s]\n",
            "  0%|          | 0/151 [00:00<?, ?it/s]"
          ],
          "name": "stderr"
        },
        {
          "output_type": "stream",
          "text": [
            "\n",
            "Test set: Average loss: 0.0044, Accuracy: 16794/33000 (50.89%)\n",
            "\n",
            "\n",
            " Epoch: 30\n"
          ],
          "name": "stdout"
        },
        {
          "output_type": "stream",
          "text": [
            "Loss = 0.9455482959747314 Batch_id = 150 Accuracy = 76.71: 100%|██████████| 151/151 [02:15<00:00,  1.11it/s]\n",
            "  0%|          | 0/65 [00:00<?, ?it/s]"
          ],
          "name": "stderr"
        },
        {
          "output_type": "stream",
          "text": [
            "\n",
            "LR from scheduler: [0.024287385739409795]\n"
          ],
          "name": "stdout"
        },
        {
          "output_type": "stream",
          "text": [
            "Loss = 2.4023406505584717 Batch_id = 64 Accuracy = 51.39: 100%|██████████| 65/65 [00:20<00:00,  3.20it/s]\n",
            "  0%|          | 0/151 [00:00<?, ?it/s]"
          ],
          "name": "stderr"
        },
        {
          "output_type": "stream",
          "text": [
            "\n",
            "Test set: Average loss: 0.0044, Accuracy: 16958/33000 (51.39%)\n",
            "\n",
            "\n",
            " Epoch: 31\n"
          ],
          "name": "stdout"
        },
        {
          "output_type": "stream",
          "text": [
            "Loss = 0.9631285667419434 Batch_id = 150 Accuracy = 78.45: 100%|██████████| 151/151 [02:15<00:00,  1.11it/s]\n",
            "  0%|          | 0/65 [00:00<?, ?it/s]"
          ],
          "name": "stderr"
        },
        {
          "output_type": "stream",
          "text": [
            "\n",
            "LR from scheduler: [0.022706885607735074]\n"
          ],
          "name": "stdout"
        },
        {
          "output_type": "stream",
          "text": [
            "Loss = 2.1629321575164795 Batch_id = 64 Accuracy = 50.72: 100%|██████████| 65/65 [00:20<00:00,  3.20it/s]\n",
            "  0%|          | 0/151 [00:00<?, ?it/s]"
          ],
          "name": "stderr"
        },
        {
          "output_type": "stream",
          "text": [
            "\n",
            "Test set: Average loss: 0.0045, Accuracy: 16736/33000 (50.72%)\n",
            "\n",
            "\n",
            " Epoch: 32\n"
          ],
          "name": "stdout"
        },
        {
          "output_type": "stream",
          "text": [
            "Loss = 0.7857513427734375 Batch_id = 150 Accuracy = 80.03: 100%|██████████| 151/151 [02:16<00:00,  1.11it/s]\n",
            "  0%|          | 0/65 [00:00<?, ?it/s]"
          ],
          "name": "stderr"
        },
        {
          "output_type": "stream",
          "text": [
            "\n",
            "LR from scheduler: [0.021150810088323223]\n"
          ],
          "name": "stdout"
        },
        {
          "output_type": "stream",
          "text": [
            "Loss = 2.3406057357788086 Batch_id = 64 Accuracy = 50.24: 100%|██████████| 65/65 [00:20<00:00,  3.18it/s]\n",
            "  0%|          | 0/151 [00:00<?, ?it/s]"
          ],
          "name": "stderr"
        },
        {
          "output_type": "stream",
          "text": [
            "\n",
            "Test set: Average loss: 0.0045, Accuracy: 16578/33000 (50.24%)\n",
            "\n",
            "\n",
            " Epoch: 33\n"
          ],
          "name": "stdout"
        },
        {
          "output_type": "stream",
          "text": [
            "Loss = 0.7045124173164368 Batch_id = 150 Accuracy = 81.23: 100%|██████████| 151/151 [02:15<00:00,  1.11it/s]\n",
            "  0%|          | 0/65 [00:00<?, ?it/s]"
          ],
          "name": "stderr"
        },
        {
          "output_type": "stream",
          "text": [
            "\n",
            "LR from scheduler: [0.019627088585336745]\n"
          ],
          "name": "stdout"
        },
        {
          "output_type": "stream",
          "text": [
            "Loss = 2.047701120376587 Batch_id = 64 Accuracy = 50.45: 100%|██████████| 65/65 [00:20<00:00,  3.18it/s]\n",
            "  0%|          | 0/151 [00:00<?, ?it/s]"
          ],
          "name": "stderr"
        },
        {
          "output_type": "stream",
          "text": [
            "\n",
            "Test set: Average loss: 0.0046, Accuracy: 16647/33000 (50.45%)\n",
            "\n",
            "\n",
            " Epoch: 34\n"
          ],
          "name": "stdout"
        },
        {
          "output_type": "stream",
          "text": [
            "Loss = 0.7491722106933594 Batch_id = 150 Accuracy = 82.82: 100%|██████████| 151/151 [02:15<00:00,  1.11it/s]\n",
            "  0%|          | 0/65 [00:00<?, ?it/s]"
          ],
          "name": "stderr"
        },
        {
          "output_type": "stream",
          "text": [
            "\n",
            "LR from scheduler: [0.018143485634286638]\n"
          ],
          "name": "stdout"
        },
        {
          "output_type": "stream",
          "text": [
            "Loss = 2.26466965675354 Batch_id = 64 Accuracy = 52.08: 100%|██████████| 65/65 [00:20<00:00,  3.20it/s]\n",
            "  0%|          | 0/151 [00:00<?, ?it/s]"
          ],
          "name": "stderr"
        },
        {
          "output_type": "stream",
          "text": [
            "\n",
            "Test set: Average loss: 0.0045, Accuracy: 17187/33000 (52.08%)\n",
            "\n",
            "\n",
            " Epoch: 35\n"
          ],
          "name": "stdout"
        },
        {
          "output_type": "stream",
          "text": [
            "Loss = 0.8092055320739746 Batch_id = 150 Accuracy = 84.45: 100%|██████████| 151/151 [02:15<00:00,  1.11it/s]\n",
            "  0%|          | 0/65 [00:00<?, ?it/s]"
          ],
          "name": "stderr"
        },
        {
          "output_type": "stream",
          "text": [
            "\n",
            "LR from scheduler: [0.016707561335739245]\n"
          ],
          "name": "stdout"
        },
        {
          "output_type": "stream",
          "text": [
            "Loss = 2.2688231468200684 Batch_id = 64 Accuracy = 53.08: 100%|██████████| 65/65 [00:20<00:00,  3.20it/s]\n",
            "  0%|          | 0/151 [00:00<?, ?it/s]"
          ],
          "name": "stderr"
        },
        {
          "output_type": "stream",
          "text": [
            "\n",
            "Test set: Average loss: 0.0044, Accuracy: 17515/33000 (53.08%)\n",
            "\n",
            "\n",
            " Epoch: 36\n"
          ],
          "name": "stdout"
        },
        {
          "output_type": "stream",
          "text": [
            "Loss = 0.5637614130973816 Batch_id = 150 Accuracy = 86.06: 100%|██████████| 151/151 [02:15<00:00,  1.11it/s]\n",
            "  0%|          | 0/65 [00:00<?, ?it/s]"
          ],
          "name": "stderr"
        },
        {
          "output_type": "stream",
          "text": [
            "\n",
            "LR from scheduler: [0.015326632830776662]\n"
          ],
          "name": "stdout"
        },
        {
          "output_type": "stream",
          "text": [
            "Loss = 2.086418628692627 Batch_id = 64 Accuracy = 51.97: 100%|██████████| 65/65 [00:20<00:00,  3.19it/s]\n",
            "  0%|          | 0/151 [00:00<?, ?it/s]"
          ],
          "name": "stderr"
        },
        {
          "output_type": "stream",
          "text": [
            "\n",
            "Test set: Average loss: 0.0045, Accuracy: 17151/33000 (51.97%)\n",
            "\n",
            "\n",
            " Epoch: 37\n"
          ],
          "name": "stdout"
        },
        {
          "output_type": "stream",
          "text": [
            "Loss = 0.5985634326934814 Batch_id = 150 Accuracy = 87.41: 100%|██████████| 151/151 [02:15<00:00,  1.11it/s]\n",
            "  0%|          | 0/65 [00:00<?, ?it/s]"
          ],
          "name": "stderr"
        },
        {
          "output_type": "stream",
          "text": [
            "\n",
            "LR from scheduler: [0.014007737014523045]\n"
          ],
          "name": "stdout"
        },
        {
          "output_type": "stream",
          "text": [
            "Loss = 2.288658618927002 Batch_id = 64 Accuracy = 53.81: 100%|██████████| 65/65 [00:20<00:00,  3.19it/s]\n",
            "  0%|          | 0/151 [00:00<?, ?it/s]"
          ],
          "name": "stderr"
        },
        {
          "output_type": "stream",
          "text": [
            "\n",
            "Test set: Average loss: 0.0043, Accuracy: 17758/33000 (53.81%)\n",
            "\n",
            "\n",
            " Epoch: 38\n"
          ],
          "name": "stdout"
        },
        {
          "output_type": "stream",
          "text": [
            "Loss = 0.43973061442375183 Batch_id = 150 Accuracy = 88.89: 100%|██████████| 151/151 [02:15<00:00,  1.11it/s]\n",
            "  0%|          | 0/65 [00:00<?, ?it/s]"
          ],
          "name": "stderr"
        },
        {
          "output_type": "stream",
          "text": [
            "\n",
            "LR from scheduler: [0.012757594677740056]\n"
          ],
          "name": "stdout"
        },
        {
          "output_type": "stream",
          "text": [
            "Loss = 2.343780994415283 Batch_id = 64 Accuracy = 52.90: 100%|██████████| 65/65 [00:20<00:00,  3.20it/s]\n",
            "  0%|          | 0/151 [00:00<?, ?it/s]"
          ],
          "name": "stderr"
        },
        {
          "output_type": "stream",
          "text": [
            "\n",
            "Test set: Average loss: 0.0045, Accuracy: 17458/33000 (52.90%)\n",
            "\n",
            "\n",
            " Epoch: 39\n"
          ],
          "name": "stdout"
        },
        {
          "output_type": "stream",
          "text": [
            "Loss = 0.3133823275566101 Batch_id = 150 Accuracy = 90.35: 100%|██████████| 151/151 [02:15<00:00,  1.11it/s]\n",
            "  0%|          | 0/65 [00:00<?, ?it/s]"
          ],
          "name": "stderr"
        },
        {
          "output_type": "stream",
          "text": [
            "\n",
            "LR from scheduler: [0.011582576259217672]\n"
          ],
          "name": "stdout"
        },
        {
          "output_type": "stream",
          "text": [
            "Loss = 2.269477367401123 Batch_id = 64 Accuracy = 54.06: 100%|██████████| 65/65 [00:20<00:00,  3.19it/s]\n",
            "  0%|          | 0/151 [00:00<?, ?it/s]"
          ],
          "name": "stderr"
        },
        {
          "output_type": "stream",
          "text": [
            "\n",
            "Test set: Average loss: 0.0043, Accuracy: 17839/33000 (54.06%)\n",
            "\n",
            "\n",
            " Epoch: 40\n"
          ],
          "name": "stdout"
        },
        {
          "output_type": "stream",
          "text": [
            "Loss = 0.3792721927165985 Batch_id = 150 Accuracy = 91.53: 100%|██████████| 151/151 [02:16<00:00,  1.11it/s]\n",
            "  0%|          | 0/65 [00:00<?, ?it/s]"
          ],
          "name": "stderr"
        },
        {
          "output_type": "stream",
          "text": [
            "\n",
            "LR from scheduler: [0.01048866938347838]\n"
          ],
          "name": "stdout"
        },
        {
          "output_type": "stream",
          "text": [
            "Loss = 2.240257740020752 Batch_id = 64 Accuracy = 54.36: 100%|██████████| 65/65 [00:20<00:00,  3.19it/s]\n",
            "  0%|          | 0/151 [00:00<?, ?it/s]"
          ],
          "name": "stderr"
        },
        {
          "output_type": "stream",
          "text": [
            "\n",
            "Test set: Average loss: 0.0043, Accuracy: 17940/33000 (54.36%)\n",
            "\n",
            "\n",
            " Epoch: 41\n"
          ],
          "name": "stdout"
        },
        {
          "output_type": "stream",
          "text": [
            "Loss = 0.31858739256858826 Batch_id = 150 Accuracy = 92.32: 100%|██████████| 151/151 [02:16<00:00,  1.11it/s]\n",
            "  0%|          | 0/65 [00:00<?, ?it/s]"
          ],
          "name": "stderr"
        },
        {
          "output_type": "stream",
          "text": [
            "\n",
            "LR from scheduler: [0.00948144834921506]\n"
          ],
          "name": "stdout"
        },
        {
          "output_type": "stream",
          "text": [
            "Loss = 1.9780627489089966 Batch_id = 64 Accuracy = 54.06: 100%|██████████| 65/65 [00:20<00:00,  3.18it/s]\n",
            "  0%|          | 0/151 [00:00<?, ?it/s]"
          ],
          "name": "stderr"
        },
        {
          "output_type": "stream",
          "text": [
            "\n",
            "Test set: Average loss: 0.0044, Accuracy: 17840/33000 (54.06%)\n",
            "\n",
            "\n",
            " Epoch: 42\n"
          ],
          "name": "stdout"
        },
        {
          "output_type": "stream",
          "text": [
            "Loss = 0.2648535668849945 Batch_id = 150 Accuracy = 93.57: 100%|██████████| 151/151 [02:15<00:00,  1.11it/s]\n",
            "  0%|          | 0/65 [00:00<?, ?it/s]"
          ],
          "name": "stderr"
        },
        {
          "output_type": "stream",
          "text": [
            "\n",
            "LR from scheduler: [0.008566045723942586]\n"
          ],
          "name": "stdout"
        },
        {
          "output_type": "stream",
          "text": [
            "Loss = 2.571101665496826 Batch_id = 64 Accuracy = 54.58: 100%|██████████| 65/65 [00:20<00:00,  3.18it/s]\n",
            "  0%|          | 0/151 [00:00<?, ?it/s]"
          ],
          "name": "stderr"
        },
        {
          "output_type": "stream",
          "text": [
            "\n",
            "Test set: Average loss: 0.0044, Accuracy: 18011/33000 (54.58%)\n",
            "\n",
            "\n",
            " Epoch: 43\n"
          ],
          "name": "stdout"
        },
        {
          "output_type": "stream",
          "text": [
            "Loss = 0.2768497169017792 Batch_id = 150 Accuracy = 94.30: 100%|██████████| 151/151 [02:15<00:00,  1.11it/s]\n",
            "  0%|          | 0/65 [00:00<?, ?it/s]"
          ],
          "name": "stderr"
        },
        {
          "output_type": "stream",
          "text": [
            "\n",
            "LR from scheduler: [0.0077471261896103]\n"
          ],
          "name": "stdout"
        },
        {
          "output_type": "stream",
          "text": [
            "Loss = 2.2621912956237793 Batch_id = 64 Accuracy = 55.03: 100%|██████████| 65/65 [00:20<00:00,  3.20it/s]\n",
            "  0%|          | 0/151 [00:00<?, ?it/s]"
          ],
          "name": "stderr"
        },
        {
          "output_type": "stream",
          "text": [
            "\n",
            "Test set: Average loss: 0.0044, Accuracy: 18159/33000 (55.03%)\n",
            "\n",
            "\n",
            " Epoch: 44\n"
          ],
          "name": "stdout"
        },
        {
          "output_type": "stream",
          "text": [
            "Loss = 0.2452985793352127 Batch_id = 150 Accuracy = 95.02: 100%|██████████| 151/151 [02:15<00:00,  1.11it/s]\n",
            "  0%|          | 0/65 [00:00<?, ?it/s]"
          ],
          "name": "stderr"
        },
        {
          "output_type": "stream",
          "text": [
            "\n",
            "LR from scheduler: [0.007028862772452009]\n"
          ],
          "name": "stdout"
        },
        {
          "output_type": "stream",
          "text": [
            "Loss = 2.406643867492676 Batch_id = 64 Accuracy = 54.94: 100%|██████████| 65/65 [00:20<00:00,  3.21it/s]\n",
            "  0%|          | 0/151 [00:00<?, ?it/s]"
          ],
          "name": "stderr"
        },
        {
          "output_type": "stream",
          "text": [
            "\n",
            "Test set: Average loss: 0.0044, Accuracy: 18129/33000 (54.94%)\n",
            "\n",
            "\n",
            " Epoch: 45\n"
          ],
          "name": "stdout"
        },
        {
          "output_type": "stream",
          "text": [
            "Loss = 0.1787000596523285 Batch_id = 150 Accuracy = 95.53: 100%|██████████| 151/151 [02:15<00:00,  1.11it/s]\n",
            "  0%|          | 0/65 [00:00<?, ?it/s]"
          ],
          "name": "stderr"
        },
        {
          "output_type": "stream",
          "text": [
            "\n",
            "LR from scheduler: [0.006414915578200843]\n"
          ],
          "name": "stdout"
        },
        {
          "output_type": "stream",
          "text": [
            "Loss = 2.0434815883636475 Batch_id = 64 Accuracy = 55.09: 100%|██████████| 65/65 [00:20<00:00,  3.15it/s]\n",
            "  0%|          | 0/151 [00:00<?, ?it/s]"
          ],
          "name": "stderr"
        },
        {
          "output_type": "stream",
          "text": [
            "\n",
            "Test set: Average loss: 0.0044, Accuracy: 18181/33000 (55.09%)\n",
            "\n",
            "\n",
            " Epoch: 46\n"
          ],
          "name": "stdout"
        },
        {
          "output_type": "stream",
          "text": [
            "Loss = 0.18841436505317688 Batch_id = 150 Accuracy = 96.09: 100%|██████████| 151/151 [02:15<00:00,  1.11it/s]\n",
            "  0%|          | 0/65 [00:00<?, ?it/s]"
          ],
          "name": "stderr"
        },
        {
          "output_type": "stream",
          "text": [
            "\n",
            "LR from scheduler: [0.005908413141029428]\n"
          ],
          "name": "stdout"
        },
        {
          "output_type": "stream",
          "text": [
            "Loss = 2.025193214416504 Batch_id = 64 Accuracy = 55.37: 100%|██████████| 65/65 [00:20<00:00,  3.17it/s]\n",
            "  0%|          | 0/151 [00:00<?, ?it/s]"
          ],
          "name": "stderr"
        },
        {
          "output_type": "stream",
          "text": [
            "\n",
            "Test set: Average loss: 0.0044, Accuracy: 18272/33000 (55.37%)\n",
            "\n",
            "\n",
            " Epoch: 47\n"
          ],
          "name": "stdout"
        },
        {
          "output_type": "stream",
          "text": [
            "Loss = 0.16649463772773743 Batch_id = 150 Accuracy = 96.51: 100%|██████████| 151/151 [02:15<00:00,  1.11it/s]\n",
            "  0%|          | 0/65 [00:00<?, ?it/s]"
          ],
          "name": "stderr"
        },
        {
          "output_type": "stream",
          "text": [
            "\n",
            "LR from scheduler: [0.005511936481256837]\n"
          ],
          "name": "stdout"
        },
        {
          "output_type": "stream",
          "text": [
            "Loss = 2.2164502143859863 Batch_id = 64 Accuracy = 55.47: 100%|██████████| 65/65 [00:20<00:00,  3.20it/s]\n",
            "  0%|          | 0/151 [00:00<?, ?it/s]"
          ],
          "name": "stderr"
        },
        {
          "output_type": "stream",
          "text": [
            "\n",
            "Test set: Average loss: 0.0043, Accuracy: 18304/33000 (55.47%)\n",
            "\n",
            "\n",
            " Epoch: 48\n"
          ],
          "name": "stdout"
        },
        {
          "output_type": "stream",
          "text": [
            "Loss = 0.18219609558582306 Batch_id = 150 Accuracy = 96.91: 100%|██████████| 151/151 [02:15<00:00,  1.11it/s]\n",
            "  0%|          | 0/65 [00:00<?, ?it/s]"
          ],
          "name": "stderr"
        },
        {
          "output_type": "stream",
          "text": [
            "\n",
            "LR from scheduler: [0.0052275059530606915]\n"
          ],
          "name": "stdout"
        },
        {
          "output_type": "stream",
          "text": [
            "Loss = 1.853644847869873 Batch_id = 64 Accuracy = 55.63: 100%|██████████| 65/65 [00:20<00:00,  3.20it/s]\n",
            "  0%|          | 0/151 [00:00<?, ?it/s]"
          ],
          "name": "stderr"
        },
        {
          "output_type": "stream",
          "text": [
            "\n",
            "Test set: Average loss: 0.0044, Accuracy: 18359/33000 (55.63%)\n",
            "\n",
            "\n",
            " Epoch: 49\n"
          ],
          "name": "stdout"
        },
        {
          "output_type": "stream",
          "text": [
            "Loss = 0.16126303374767303 Batch_id = 150 Accuracy = 97.00: 100%|██████████| 151/151 [02:15<00:00,  1.11it/s]\n",
            "  0%|          | 0/65 [00:00<?, ?it/s]"
          ],
          "name": "stderr"
        },
        {
          "output_type": "stream",
          "text": [
            "\n",
            "LR from scheduler: [0.0050565709492153684]\n"
          ],
          "name": "stdout"
        },
        {
          "output_type": "stream",
          "text": [
            "Loss = 2.3649346828460693 Batch_id = 64 Accuracy = 55.72: 100%|██████████| 65/65 [00:20<00:00,  3.20it/s]\n",
            "  0%|          | 0/151 [00:00<?, ?it/s]"
          ],
          "name": "stderr"
        },
        {
          "output_type": "stream",
          "text": [
            "\n",
            "Test set: Average loss: 0.0044, Accuracy: 18389/33000 (55.72%)\n",
            "\n",
            "\n",
            " Epoch: 50\n"
          ],
          "name": "stdout"
        },
        {
          "output_type": "stream",
          "text": [
            "Loss = 0.14076966047286987 Batch_id = 150 Accuracy = 97.32: 100%|██████████| 151/151 [02:15<00:00,  1.11it/s]\n",
            "  0%|          | 0/65 [00:00<?, ?it/s]"
          ],
          "name": "stderr"
        },
        {
          "output_type": "stream",
          "text": [
            "\n",
            "LR from scheduler: [0.005000002515318658]\n"
          ],
          "name": "stdout"
        },
        {
          "output_type": "stream",
          "text": [
            "Loss = 2.098245620727539 Batch_id = 64 Accuracy = 55.27: 100%|██████████| 65/65 [00:20<00:00,  3.21it/s]"
          ],
          "name": "stderr"
        },
        {
          "output_type": "stream",
          "text": [
            "\n",
            "Test set: Average loss: 0.0044, Accuracy: 18238/33000 (55.27%)\n",
            "\n"
          ],
          "name": "stdout"
        },
        {
          "output_type": "stream",
          "text": [
            "\n"
          ],
          "name": "stderr"
        }
      ]
    },
    {
      "cell_type": "code",
      "metadata": {
        "id": "sls-g8Js324D",
        "outputId": "05a4397c-c30f-4b83-f93b-a0a856200ae8",
        "colab": {
          "base_uri": "https://localhost:8080/",
          "height": 666
        }
      },
      "source": [
        "train_metric = (train_acc, train_losses)\n",
        "test_metric = (test_acc, test_losses)\n",
        "\n",
        "plot_metrics.metrics(train_metric, test_metric)"
      ],
      "execution_count": null,
      "outputs": [
        {
          "output_type": "display_data",
          "data": {
            "image/png": "[encoded data removed]",
            "text/plain": [
              "<Figure size 1008x720 with 4 Axes>"
            ]
          },
          "metadata": {
            "tags": []
          }
        }
      ]
    }
  ]
}