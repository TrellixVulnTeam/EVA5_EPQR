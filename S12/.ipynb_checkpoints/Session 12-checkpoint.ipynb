{
 "cells": [
  {
   "cell_type": "code",
   "execution_count": 1,
   "metadata": {},
   "outputs": [],
   "source": [
    "from __future__ import print_function\n",
    "\n",
    "import matplotlib.pyplot as plt\n",
    "\n",
    "import numpy as np\n",
    "\n",
    "import torch\n",
    "import torch.nn as nn\n",
    "import torch.nn.functional as F\n",
    "import torch.optim as optim\n",
    "from torch.optim.lr_scheduler import ReduceLROnPlateau\n",
    "from torchvision import datasets, transforms\n",
    "from torchsummary import summary\n",
    "\n",
    "from tqdm import tqdm\n",
    "\n",
    "import albumentations as A\n",
    "import albumentations.pytorch.transforms as APT"
   ]
  },
  {
   "cell_type": "code",
   "execution_count": 2,
   "metadata": {},
   "outputs": [],
   "source": [
    "from data_loading import transform, dataset, dataloader, util\n",
    "from data_loading.dataloader import TinyImageNetDataLoader\n",
    "from models import resnet\n",
    "from utils import plot_metrics, misclassifications, classwise_accuracy, show_image\n",
    "from lr_finder import LRFinder\n",
    "import normalisation as norm, loss_functions, trainer, tester, run_model\n",
    "import run_grad_cam"
   ]
  },
  {
   "cell_type": "code",
   "execution_count": 3,
   "metadata": {},
   "outputs": [],
   "source": [
    "mean = (0.49139968, 0.48215841, 0.44653091)\n",
    "std = (0.24703223, 0.24348513, 0.26158784)\n",
    "data_dir = '/data/'"
   ]
  },
  {
   "cell_type": "code",
   "execution_count": 4,
   "metadata": {},
   "outputs": [],
   "source": [
    "train_transforms, test_transforms = transform.tinyimagenet_albumentations(mean, std)\n",
    "# trainset, testset = TinyImageNet(train_transforms, test_transforms)\n",
    "tin = TinyImageNetDataLoader(train_transforms=train_transforms, test_transforms=test_transforms,\n",
    "                                data_dir=data_dir, batch_size=128, shuffle=True, num_workers=4, pin_memory=True)\n",
    "# ToTensorV2()"
   ]
  },
  {
   "cell_type": "code",
   "execution_count": 5,
   "metadata": {},
   "outputs": [
    {
     "name": "stdout",
     "output_type": "stream",
     "text": [
      "cuda\n"
     ]
    }
   ],
   "source": [
    "# device\n",
    "use_cuda = torch.cuda.is_available()\n",
    "device = torch.device(\"cuda\" if use_cuda else \"cpu\")\n",
    "print(device)"
   ]
  },
  {
   "cell_type": "code",
   "execution_count": 6,
   "metadata": {},
   "outputs": [
    {
     "name": "stdout",
     "output_type": "stream",
     "text": [
      "----------------------------------------------------------------\n",
      "        Layer (type)               Output Shape         Param #\n",
      "================================================================\n",
      "            Conv2d-1           [-1, 64, 64, 64]           1,728\n",
      "       BatchNorm2d-2           [-1, 64, 64, 64]             128\n",
      "            Conv2d-3           [-1, 64, 64, 64]          36,864\n",
      "       BatchNorm2d-4           [-1, 64, 64, 64]             128\n",
      "            Conv2d-5           [-1, 64, 64, 64]          36,864\n",
      "       BatchNorm2d-6           [-1, 64, 64, 64]             128\n",
      "        BasicBlock-7           [-1, 64, 64, 64]               0\n",
      "            Conv2d-8           [-1, 64, 64, 64]          36,864\n",
      "       BatchNorm2d-9           [-1, 64, 64, 64]             128\n",
      "           Conv2d-10           [-1, 64, 64, 64]          36,864\n",
      "      BatchNorm2d-11           [-1, 64, 64, 64]             128\n",
      "       BasicBlock-12           [-1, 64, 64, 64]               0\n",
      "           Conv2d-13          [-1, 128, 32, 32]          73,728\n",
      "      BatchNorm2d-14          [-1, 128, 32, 32]             256\n",
      "           Conv2d-15          [-1, 128, 32, 32]         147,456\n",
      "      BatchNorm2d-16          [-1, 128, 32, 32]             256\n",
      "           Conv2d-17          [-1, 128, 32, 32]           8,192\n",
      "      BatchNorm2d-18          [-1, 128, 32, 32]             256\n",
      "       BasicBlock-19          [-1, 128, 32, 32]               0\n",
      "           Conv2d-20          [-1, 128, 32, 32]         147,456\n",
      "      BatchNorm2d-21          [-1, 128, 32, 32]             256\n",
      "           Conv2d-22          [-1, 128, 32, 32]         147,456\n",
      "      BatchNorm2d-23          [-1, 128, 32, 32]             256\n",
      "       BasicBlock-24          [-1, 128, 32, 32]               0\n",
      "           Conv2d-25          [-1, 256, 16, 16]         294,912\n",
      "      BatchNorm2d-26          [-1, 256, 16, 16]             512\n",
      "           Conv2d-27          [-1, 256, 16, 16]         589,824\n",
      "      BatchNorm2d-28          [-1, 256, 16, 16]             512\n",
      "           Conv2d-29          [-1, 256, 16, 16]          32,768\n",
      "      BatchNorm2d-30          [-1, 256, 16, 16]             512\n",
      "       BasicBlock-31          [-1, 256, 16, 16]               0\n",
      "           Conv2d-32          [-1, 256, 16, 16]         589,824\n",
      "      BatchNorm2d-33          [-1, 256, 16, 16]             512\n",
      "           Conv2d-34          [-1, 256, 16, 16]         589,824\n",
      "      BatchNorm2d-35          [-1, 256, 16, 16]             512\n",
      "       BasicBlock-36          [-1, 256, 16, 16]               0\n",
      "           Conv2d-37            [-1, 512, 8, 8]       1,179,648\n",
      "      BatchNorm2d-38            [-1, 512, 8, 8]           1,024\n",
      "           Conv2d-39            [-1, 512, 8, 8]       2,359,296\n",
      "      BatchNorm2d-40            [-1, 512, 8, 8]           1,024\n",
      "           Conv2d-41            [-1, 512, 8, 8]         131,072\n",
      "      BatchNorm2d-42            [-1, 512, 8, 8]           1,024\n",
      "       BasicBlock-43            [-1, 512, 8, 8]               0\n",
      "           Conv2d-44            [-1, 512, 8, 8]       2,359,296\n",
      "      BatchNorm2d-45            [-1, 512, 8, 8]           1,024\n",
      "           Conv2d-46            [-1, 512, 8, 8]       2,359,296\n",
      "      BatchNorm2d-47            [-1, 512, 8, 8]           1,024\n",
      "       BasicBlock-48            [-1, 512, 8, 8]               0\n",
      "           Linear-49                  [-1, 200]         102,600\n",
      "================================================================\n",
      "Total params: 11,271,432\n",
      "Trainable params: 11,271,432\n",
      "Non-trainable params: 0\n",
      "----------------------------------------------------------------\n",
      "Input size (MB): 0.05\n",
      "Forward/backward pass size (MB): 45.00\n",
      "Params size (MB): 43.00\n",
      "Estimated Total Size (MB): 88.05\n",
      "----------------------------------------------------------------\n",
      "None\n"
     ]
    }
   ],
   "source": [
    "# model summary\n",
    "net = resnet.ResNet18_TinyImageNet().to(device)\n",
    "print(summary(net, input_size=(3, 64, 64)))"
   ]
  },
  {
   "cell_type": "code",
   "execution_count": 9,
   "metadata": {},
   "outputs": [
    {
     "data": {
      "text/plain": [
       "128"
      ]
     },
     "execution_count": 9,
     "metadata": {},
     "output_type": "execute_result"
    }
   ],
   "source": [
    "class xyz():\n",
    "    def __init__(self):\n",
    "        self.in_planes = [128, 512]\n",
    "        \n",
    "    def make(self, in_val):\n",
    "        return self.in_planes[in_val]\n",
    "        \n",
    "        \n",
    "x = xyz()\n",
    "x.make(0)"
   ]
  }
 ],
 "metadata": {
  "kernelspec": {
   "display_name": "Python 3",
   "language": "python",
   "name": "python3"
  },
  "language_info": {
   "codemirror_mode": {
    "name": "ipython",
    "version": 3
   },
   "file_extension": ".py",
   "mimetype": "text/x-python",
   "name": "python",
   "nbconvert_exporter": "python",
   "pygments_lexer": "ipython3",
   "version": "3.8.3"
  }
 },
 "nbformat": 4,
 "nbformat_minor": 4
}
